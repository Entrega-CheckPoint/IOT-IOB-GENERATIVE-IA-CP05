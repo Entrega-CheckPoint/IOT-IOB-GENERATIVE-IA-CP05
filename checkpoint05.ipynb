{
 "cells": [
  {
   "cell_type": "code",
   "execution_count": 60,
   "id": "565bbf59",
   "metadata": {},
   "outputs": [],
   "source": [
    "from tensorflow.keras import models, layers, regularizers, Input\n",
    "from tensorflow.keras.models import load_model\n",
    "from sklearn.preprocessing import MinMaxScaler\n",
    "from tensorflow import keras\n",
    "import matplotlib.pyplot as plt\n",
    "import tensorflow as tf\n",
    "import pandas as pd\n",
    "import numpy as np"
   ]
  },
  {
   "cell_type": "markdown",
   "id": "0a4f05c3",
   "metadata": {},
   "source": [
    "#### EXERCÍCIO 1 – CLASSIFICAÇÃO MULTICLASSE\n",
    "\n",
    "Dataset: Wine Dataset (UCI)\n",
    "\n",
    "1. Treinar uma rede neural em Keras para classificar vinhos em 3 classes.\n",
    "\n",
    "- Configuração mínima: 2 camadas ocultas com 32 neurônios cada, função de ativação ReLU.\n",
    "- Camada de saída com 3 neurônios, função de ativação Softmax.\n",
    "- Função de perda: categorical_crossentropy.\n",
    "- Otimizador: Adam.\n",
    "\n",
    "2. Comparar os resultados com um modelo do scikit-learn (RandomForestClassifier ou\n",
    "   LogisticRegression).\n",
    "3. Registrar métricas de acurácia e discutir qual modelo teve melhor desempenho.\n"
   ]
  },
  {
   "cell_type": "code",
   "execution_count": 61,
   "id": "81bbfe8a",
   "metadata": {},
   "outputs": [
    {
     "data": {
      "text/plain": [
       "['Alcohol',\n",
       " 'Malic acid',\n",
       " 'Ash',\n",
       " 'Alcalinity of ash',\n",
       " 'Magnesium',\n",
       " 'Total phenols',\n",
       " 'Flavanoids',\n",
       " 'Nonflavanoid phenols',\n",
       " 'Proanthocyanins',\n",
       " 'Color intensity',\n",
       " 'Hue',\n",
       " 'OD280/OD315 of diluted wines',\n",
       " 'Proline']"
      ]
     },
     "execution_count": 61,
     "metadata": {},
     "output_type": "execute_result"
    }
   ],
   "source": [
    "lista = [\n",
    "    \" Alcohol\",\n",
    "    \" Malic acid\",\n",
    "    \" Ash\",\n",
    "    \" Alcalinity of ash  \",\n",
    "    \" Magnesium\",\n",
    "    \" Total phenols\",\n",
    "    \" Flavanoids\",\n",
    "    \" Nonflavanoid phenols\",\n",
    "    \" Proanthocyanins\",\n",
    "    \"Color intensity\",\n",
    "    \"Hue\",\n",
    "    \"OD280/OD315 of diluted wines\",\n",
    "    \"Proline            \",\n",
    "]\n",
    "\n",
    "lista = [x.strip() for x in lista]\n",
    "lista"
   ]
  },
  {
   "cell_type": "code",
   "execution_count": 62,
   "id": "171a0f2a",
   "metadata": {},
   "outputs": [
    {
     "data": {
      "text/html": [
       "<div>\n",
       "<style scoped>\n",
       "    .dataframe tbody tr th:only-of-type {\n",
       "        vertical-align: middle;\n",
       "    }\n",
       "\n",
       "    .dataframe tbody tr th {\n",
       "        vertical-align: top;\n",
       "    }\n",
       "\n",
       "    .dataframe thead th {\n",
       "        text-align: right;\n",
       "    }\n",
       "</style>\n",
       "<table border=\"1\" class=\"dataframe\">\n",
       "  <thead>\n",
       "    <tr style=\"text-align: right;\">\n",
       "      <th></th>\n",
       "      <th>Class</th>\n",
       "      <th>Alcohol</th>\n",
       "      <th>Malic acid</th>\n",
       "      <th>Ash</th>\n",
       "      <th>Alcalinity of ash</th>\n",
       "      <th>Magnesium</th>\n",
       "      <th>Total phenols</th>\n",
       "      <th>Flavanoids</th>\n",
       "      <th>Nonflavanoid phenols</th>\n",
       "      <th>Proanthocyanins</th>\n",
       "      <th>Color intensity</th>\n",
       "      <th>Hue</th>\n",
       "      <th>OD280/OD315 of diluted wines</th>\n",
       "      <th>Proline</th>\n",
       "    </tr>\n",
       "  </thead>\n",
       "  <tbody>\n",
       "    <tr>\n",
       "      <th>0</th>\n",
       "      <td>1</td>\n",
       "      <td>14.23</td>\n",
       "      <td>1.71</td>\n",
       "      <td>2.43</td>\n",
       "      <td>15.6</td>\n",
       "      <td>127</td>\n",
       "      <td>2.80</td>\n",
       "      <td>3.06</td>\n",
       "      <td>0.28</td>\n",
       "      <td>2.29</td>\n",
       "      <td>5.64</td>\n",
       "      <td>1.04</td>\n",
       "      <td>3.92</td>\n",
       "      <td>1065</td>\n",
       "    </tr>\n",
       "    <tr>\n",
       "      <th>1</th>\n",
       "      <td>1</td>\n",
       "      <td>13.20</td>\n",
       "      <td>1.78</td>\n",
       "      <td>2.14</td>\n",
       "      <td>11.2</td>\n",
       "      <td>100</td>\n",
       "      <td>2.65</td>\n",
       "      <td>2.76</td>\n",
       "      <td>0.26</td>\n",
       "      <td>1.28</td>\n",
       "      <td>4.38</td>\n",
       "      <td>1.05</td>\n",
       "      <td>3.40</td>\n",
       "      <td>1050</td>\n",
       "    </tr>\n",
       "    <tr>\n",
       "      <th>2</th>\n",
       "      <td>1</td>\n",
       "      <td>13.16</td>\n",
       "      <td>2.36</td>\n",
       "      <td>2.67</td>\n",
       "      <td>18.6</td>\n",
       "      <td>101</td>\n",
       "      <td>2.80</td>\n",
       "      <td>3.24</td>\n",
       "      <td>0.30</td>\n",
       "      <td>2.81</td>\n",
       "      <td>5.68</td>\n",
       "      <td>1.03</td>\n",
       "      <td>3.17</td>\n",
       "      <td>1185</td>\n",
       "    </tr>\n",
       "    <tr>\n",
       "      <th>3</th>\n",
       "      <td>1</td>\n",
       "      <td>14.37</td>\n",
       "      <td>1.95</td>\n",
       "      <td>2.50</td>\n",
       "      <td>16.8</td>\n",
       "      <td>113</td>\n",
       "      <td>3.85</td>\n",
       "      <td>3.49</td>\n",
       "      <td>0.24</td>\n",
       "      <td>2.18</td>\n",
       "      <td>7.80</td>\n",
       "      <td>0.86</td>\n",
       "      <td>3.45</td>\n",
       "      <td>1480</td>\n",
       "    </tr>\n",
       "    <tr>\n",
       "      <th>4</th>\n",
       "      <td>1</td>\n",
       "      <td>13.24</td>\n",
       "      <td>2.59</td>\n",
       "      <td>2.87</td>\n",
       "      <td>21.0</td>\n",
       "      <td>118</td>\n",
       "      <td>2.80</td>\n",
       "      <td>2.69</td>\n",
       "      <td>0.39</td>\n",
       "      <td>1.82</td>\n",
       "      <td>4.32</td>\n",
       "      <td>1.04</td>\n",
       "      <td>2.93</td>\n",
       "      <td>735</td>\n",
       "    </tr>\n",
       "  </tbody>\n",
       "</table>\n",
       "</div>"
      ],
      "text/plain": [
       "   Class  Alcohol  Malic acid   Ash  Alcalinity of ash  Magnesium  \\\n",
       "0      1    14.23        1.71  2.43               15.6        127   \n",
       "1      1    13.20        1.78  2.14               11.2        100   \n",
       "2      1    13.16        2.36  2.67               18.6        101   \n",
       "3      1    14.37        1.95  2.50               16.8        113   \n",
       "4      1    13.24        2.59  2.87               21.0        118   \n",
       "\n",
       "   Total phenols  Flavanoids  Nonflavanoid phenols  Proanthocyanins  \\\n",
       "0           2.80        3.06                  0.28             2.29   \n",
       "1           2.65        2.76                  0.26             1.28   \n",
       "2           2.80        3.24                  0.30             2.81   \n",
       "3           3.85        3.49                  0.24             2.18   \n",
       "4           2.80        2.69                  0.39             1.82   \n",
       "\n",
       "   Color intensity   Hue  OD280/OD315 of diluted wines  Proline  \n",
       "0             5.64  1.04                          3.92     1065  \n",
       "1             4.38  1.05                          3.40     1050  \n",
       "2             5.68  1.03                          3.17     1185  \n",
       "3             7.80  0.86                          3.45     1480  \n",
       "4             4.32  1.04                          2.93      735  "
      ]
     },
     "execution_count": 62,
     "metadata": {},
     "output_type": "execute_result"
    }
   ],
   "source": [
    "# input de dados\n",
    "\n",
    "COLUMN_NAMES = [\n",
    "    \"Class\",\n",
    "    \"Alcohol\",\n",
    "    \"Malic acid\",\n",
    "    \"Ash\",\n",
    "    \"Alcalinity of ash\",\n",
    "    \"Magnesium\",\n",
    "    \"Total phenols\",\n",
    "    \"Flavanoids\",\n",
    "    \"Nonflavanoid phenols\",\n",
    "    \"Proanthocyanins\",\n",
    "    \"Color intensity\",\n",
    "    \"Hue\",\n",
    "    \"OD280/OD315 of diluted wines\",\n",
    "    \"Proline\",\n",
    "]\n",
    "\n",
    "\n",
    "\n",
    "df_wine = pd.read_csv(\"data/wine/wine.data\", header=None, names=COLUMN_NAMES)\n",
    "\n",
    "df_wine.head()"
   ]
  },
  {
   "cell_type": "code",
   "execution_count": 63,
   "id": "3df8bb7c",
   "metadata": {},
   "outputs": [],
   "source": [
    "X = df_wine.drop(\"Class\", axis=1).copy()\n",
    "y = df_wine[\"Class\"].copy()\n",
    "\n",
    "scaler = MinMaxScaler()\n",
    "\n",
    "feature = scaler.fit_transform(np.array(X))\n",
    "target = np.array(y)"
   ]
  },
  {
   "cell_type": "code",
   "execution_count": 64,
   "id": "0e18ead1",
   "metadata": {},
   "outputs": [],
   "source": [
    "from sklearn.model_selection import train_test_split\n",
    "\n",
    "X_train, X_test, y_train, y_test = train_test_split(\n",
    "    feature, target, test_size=0.2, random_state=42, stratify=target\n",
    ")\n",
    "\n",
    "y_train = y_train - 1\n",
    "y_test = y_test - 1"
   ]
  },
  {
   "cell_type": "code",
   "execution_count": 65,
   "id": "e8259903",
   "metadata": {},
   "outputs": [
    {
     "data": {
      "text/plain": [
       "(142, 13)"
      ]
     },
     "execution_count": 65,
     "metadata": {},
     "output_type": "execute_result"
    }
   ],
   "source": [
    "X_train.shape"
   ]
  },
  {
   "cell_type": "code",
   "execution_count": 66,
   "id": "471df3b7",
   "metadata": {},
   "outputs": [],
   "source": [
    "model = keras.Sequential(\n",
    "    [\n",
    "        Input(shape=(13,)),\n",
    "        layers.Dense(32, activation=\"relu\", kernel_regularizer=keras.regularizers.l2(0.001)),\n",
    "        layers.Dense(32, activation=\"relu\"),\n",
    "        layers.Dense(3, activation=\"softmax\"),\n",
    "    ]\n",
    ")\n",
    "\n",
    "model.compile(\n",
    "    optimizer=\"adam\", loss=\"sparse_categorical_crossentropy\", metrics=[\"accuracy\"]\n",
    ")"
   ]
  },
  {
   "cell_type": "code",
   "execution_count": 67,
   "id": "878f2474",
   "metadata": {},
   "outputs": [
    {
     "name": "stdout",
     "output_type": "stream",
     "text": [
      "Epoch 1/25\n",
      "\u001b[1m4/4\u001b[0m \u001b[32m━━━━━━━━━━━━━━━━━━━━\u001b[0m\u001b[37m\u001b[0m \u001b[1m1s\u001b[0m 92ms/step - accuracy: 0.1732 - loss: 1.2059 - val_accuracy: 0.3333 - val_loss: 1.1432\n",
      "Epoch 2/25\n",
      "\u001b[1m4/4\u001b[0m \u001b[32m━━━━━━━━━━━━━━━━━━━━\u001b[0m\u001b[37m\u001b[0m \u001b[1m0s\u001b[0m 28ms/step - accuracy: 0.1024 - loss: 1.1501 - val_accuracy: 0.2000 - val_loss: 1.1310\n",
      "Epoch 3/25\n",
      "\u001b[1m4/4\u001b[0m \u001b[32m━━━━━━━━━━━━━━━━━━━━\u001b[0m\u001b[37m\u001b[0m \u001b[1m0s\u001b[0m 34ms/step - accuracy: 0.2992 - loss: 1.1093 - val_accuracy: 0.2000 - val_loss: 1.1244\n",
      "Epoch 4/25\n",
      "\u001b[1m4/4\u001b[0m \u001b[32m━━━━━━━━━━━━━━━━━━━━\u001b[0m\u001b[37m\u001b[0m \u001b[1m0s\u001b[0m 33ms/step - accuracy: 0.4882 - loss: 1.0786 - val_accuracy: 0.2667 - val_loss: 1.1185\n",
      "Epoch 5/25\n",
      "\u001b[1m4/4\u001b[0m \u001b[32m━━━━━━━━━━━━━━━━━━━━\u001b[0m\u001b[37m\u001b[0m \u001b[1m0s\u001b[0m 34ms/step - accuracy: 0.5197 - loss: 1.0502 - val_accuracy: 0.3333 - val_loss: 1.1092\n",
      "Epoch 6/25\n",
      "\u001b[1m4/4\u001b[0m \u001b[32m━━━━━━━━━━━━━━━━━━━━\u001b[0m\u001b[37m\u001b[0m \u001b[1m0s\u001b[0m 47ms/step - accuracy: 0.5591 - loss: 1.0296 - val_accuracy: 0.3333 - val_loss: 1.0992\n",
      "Epoch 7/25\n",
      "\u001b[1m4/4\u001b[0m \u001b[32m━━━━━━━━━━━━━━━━━━━━\u001b[0m\u001b[37m\u001b[0m \u001b[1m0s\u001b[0m 32ms/step - accuracy: 0.5748 - loss: 1.0117 - val_accuracy: 0.3333 - val_loss: 1.0893\n",
      "Epoch 8/25\n",
      "\u001b[1m4/4\u001b[0m \u001b[32m━━━━━━━━━━━━━━━━━━━━\u001b[0m\u001b[37m\u001b[0m \u001b[1m0s\u001b[0m 37ms/step - accuracy: 0.5748 - loss: 0.9925 - val_accuracy: 0.3333 - val_loss: 1.0758\n",
      "Epoch 9/25\n",
      "\u001b[1m4/4\u001b[0m \u001b[32m━━━━━━━━━━━━━━━━━━━━\u001b[0m\u001b[37m\u001b[0m \u001b[1m0s\u001b[0m 30ms/step - accuracy: 0.6142 - loss: 0.9743 - val_accuracy: 0.3333 - val_loss: 1.0619\n",
      "Epoch 10/25\n",
      "\u001b[1m4/4\u001b[0m \u001b[32m━━━━━━━━━━━━━━━━━━━━\u001b[0m\u001b[37m\u001b[0m \u001b[1m0s\u001b[0m 31ms/step - accuracy: 0.6457 - loss: 0.9567 - val_accuracy: 0.3333 - val_loss: 1.0446\n",
      "Epoch 11/25\n",
      "\u001b[1m4/4\u001b[0m \u001b[32m━━━━━━━━━━━━━━━━━━━━\u001b[0m\u001b[37m\u001b[0m \u001b[1m0s\u001b[0m 65ms/step - accuracy: 0.6457 - loss: 0.9376 - val_accuracy: 0.3333 - val_loss: 1.0238\n",
      "Epoch 12/25\n",
      "\u001b[1m4/4\u001b[0m \u001b[32m━━━━━━━━━━━━━━━━━━━━\u001b[0m\u001b[37m\u001b[0m \u001b[1m0s\u001b[0m 30ms/step - accuracy: 0.6535 - loss: 0.9182 - val_accuracy: 0.3333 - val_loss: 1.0036\n",
      "Epoch 13/25\n",
      "\u001b[1m4/4\u001b[0m \u001b[32m━━━━━━━━━━━━━━━━━━━━\u001b[0m\u001b[37m\u001b[0m \u001b[1m0s\u001b[0m 29ms/step - accuracy: 0.6614 - loss: 0.8983 - val_accuracy: 0.3333 - val_loss: 0.9820\n",
      "Epoch 14/25\n",
      "\u001b[1m4/4\u001b[0m \u001b[32m━━━━━━━━━━━━━━━━━━━━\u001b[0m\u001b[37m\u001b[0m \u001b[1m0s\u001b[0m 29ms/step - accuracy: 0.6614 - loss: 0.8780 - val_accuracy: 0.3333 - val_loss: 0.9600\n",
      "Epoch 15/25\n",
      "\u001b[1m4/4\u001b[0m \u001b[32m━━━━━━━━━━━━━━━━━━━━\u001b[0m\u001b[37m\u001b[0m \u001b[1m0s\u001b[0m 34ms/step - accuracy: 0.6850 - loss: 0.8561 - val_accuracy: 0.4000 - val_loss: 0.9357\n",
      "Epoch 16/25\n",
      "\u001b[1m4/4\u001b[0m \u001b[32m━━━━━━━━━━━━━━━━━━━━\u001b[0m\u001b[37m\u001b[0m \u001b[1m0s\u001b[0m 38ms/step - accuracy: 0.7087 - loss: 0.8340 - val_accuracy: 0.6000 - val_loss: 0.9112\n",
      "Epoch 17/25\n",
      "\u001b[1m4/4\u001b[0m \u001b[32m━━━━━━━━━━━━━━━━━━━━\u001b[0m\u001b[37m\u001b[0m \u001b[1m0s\u001b[0m 39ms/step - accuracy: 0.7795 - loss: 0.8110 - val_accuracy: 0.6667 - val_loss: 0.8785\n",
      "Epoch 18/25\n",
      "\u001b[1m4/4\u001b[0m \u001b[32m━━━━━━━━━━━━━━━━━━━━\u001b[0m\u001b[37m\u001b[0m \u001b[1m0s\u001b[0m 31ms/step - accuracy: 0.8189 - loss: 0.7862 - val_accuracy: 0.6667 - val_loss: 0.8480\n",
      "Epoch 19/25\n",
      "\u001b[1m4/4\u001b[0m \u001b[32m━━━━━━━━━━━━━━━━━━━━\u001b[0m\u001b[37m\u001b[0m \u001b[1m0s\u001b[0m 30ms/step - accuracy: 0.8504 - loss: 0.7611 - val_accuracy: 0.8667 - val_loss: 0.8112\n",
      "Epoch 20/25\n",
      "\u001b[1m4/4\u001b[0m \u001b[32m━━━━━━━━━━━━━━━━━━━━\u001b[0m\u001b[37m\u001b[0m \u001b[1m0s\u001b[0m 36ms/step - accuracy: 0.8661 - loss: 0.7368 - val_accuracy: 0.9333 - val_loss: 0.7689\n",
      "Epoch 21/25\n",
      "\u001b[1m4/4\u001b[0m \u001b[32m━━━━━━━━━━━━━━━━━━━━\u001b[0m\u001b[37m\u001b[0m \u001b[1m0s\u001b[0m 29ms/step - accuracy: 0.8898 - loss: 0.7069 - val_accuracy: 0.9333 - val_loss: 0.7362\n",
      "Epoch 22/25\n",
      "\u001b[1m4/4\u001b[0m \u001b[32m━━━━━━━━━━━━━━━━━━━━\u001b[0m\u001b[37m\u001b[0m \u001b[1m0s\u001b[0m 44ms/step - accuracy: 0.9213 - loss: 0.6786 - val_accuracy: 0.9333 - val_loss: 0.7015\n",
      "Epoch 23/25\n",
      "\u001b[1m4/4\u001b[0m \u001b[32m━━━━━━━━━━━━━━━━━━━━\u001b[0m\u001b[37m\u001b[0m \u001b[1m0s\u001b[0m 27ms/step - accuracy: 0.9134 - loss: 0.6487 - val_accuracy: 0.9333 - val_loss: 0.6620\n",
      "Epoch 24/25\n",
      "\u001b[1m4/4\u001b[0m \u001b[32m━━━━━━━━━━━━━━━━━━━━\u001b[0m\u001b[37m\u001b[0m \u001b[1m0s\u001b[0m 28ms/step - accuracy: 0.9213 - loss: 0.6182 - val_accuracy: 1.0000 - val_loss: 0.6217\n",
      "Epoch 25/25\n",
      "\u001b[1m4/4\u001b[0m \u001b[32m━━━━━━━━━━━━━━━━━━━━\u001b[0m\u001b[37m\u001b[0m \u001b[1m0s\u001b[0m 39ms/step - accuracy: 0.9213 - loss: 0.5884 - val_accuracy: 1.0000 - val_loss: 0.5790\n"
     ]
    }
   ],
   "source": [
    "model_history = model.fit(X_train, y_train, epochs=25, validation_split=0.1)"
   ]
  },
  {
   "cell_type": "code",
   "execution_count": 68,
   "id": "9c9b1861",
   "metadata": {},
   "outputs": [
    {
     "name": "stdout",
     "output_type": "stream",
     "text": [
      "2/2 - 0s - 29ms/step - accuracy: 0.8889 - loss: 0.5601\n",
      "Acurácia no teste: 0.8889\n"
     ]
    }
   ],
   "source": [
    "# Avaliar no teste\n",
    "test_loss, test_acc = model.evaluate(X_test, y_test, verbose=2)\n",
    "print(f\"Acurácia no teste: {test_acc:.4f}\")"
   ]
  },
  {
   "cell_type": "code",
   "execution_count": 69,
   "id": "1861b2cc",
   "metadata": {},
   "outputs": [
    {
     "name": "stdout",
     "output_type": "stream",
     "text": [
      "\u001b[1m2/2\u001b[0m \u001b[32m━━━━━━━━━━━━━━━━━━━━\u001b[0m\u001b[37m\u001b[0m \u001b[1m0s\u001b[0m 64ms/step\n"
     ]
    },
    {
     "data": {
      "image/png": "[encoded data removed]",
      "text/plain": [
       "<Figure size 640x480 with 2 Axes>"
      ]
     },
     "metadata": {},
     "output_type": "display_data"
    }
   ],
   "source": [
    "from sklearn.metrics import confusion_matrix, ConfusionMatrixDisplay\n",
    "\n",
    "y_pred_probs = model.predict(X_test)   # gera probabilidades\n",
    "y_pred = np.argmax(y_pred_probs, axis=1)            # pega o dígito mais provável\n",
    "y_pred\n",
    "\n",
    "# Criar matriz de confusão\n",
    "cm = confusion_matrix(y_test, y_pred)\n",
    "cm_nomalize = confusion_matrix(y_test, y_pred, normalize=\"true\") * 100\n",
    "\n",
    "# Mostrar matriz\n",
    "disp = ConfusionMatrixDisplay(confusion_matrix=cm, display_labels=range(3))\n",
    "disp.plot(cmap=\"Blues\", values_format=\"d\")\n",
    "plt.title(\"Matriz de Confusão - WINE\")\n",
    "plt.show()\n"
   ]
  },
  {
   "cell_type": "code",
   "execution_count": 70,
   "id": "e75278d5",
   "metadata": {},
   "outputs": [],
   "source": [
    "from sklearn.ensemble import RandomForestClassifier\n",
    "\n",
    "rf_model = RandomForestClassifier()\n",
    "\n",
    "rf_train = rf_model.fit(X_train, y_train)"
   ]
  },
  {
   "cell_type": "code",
   "execution_count": 71,
   "id": "fd977f19",
   "metadata": {},
   "outputs": [
    {
     "data": {
      "text/plain": [
       "1.0"
      ]
     },
     "execution_count": 71,
     "metadata": {},
     "output_type": "execute_result"
    }
   ],
   "source": [
    "rf_train.score(X_test, y_test)"
   ]
  },
  {
   "cell_type": "markdown",
   "id": "3a011c41",
   "metadata": {},
   "source": [
    "- Ambos os modelos tiveram bom desempenho, mas o Random Forest atingiu acurácia perfeita (1.0) nos dados de teste, enquanto a Rede Neural obteve 0.9722.\n",
    "- Aparentemente, em conjuntos de dados menores e mais simples, o Random Forest possui desempenho maior que a rede neural.\n",
    "\n",
    "> Com o treino usando 30 épocas temos também um modelo ideal com acurácia = 1.0 \n",
    "\n",
    "---\n",
    "\n",
    "#### EXERCÍCIO 2 – REGRESSÃO\n",
    "\n",
    "Dataset: California Housing Dataset (Scikit-learn)\n",
    "\n",
    "1. Treinar uma rede neural em Keras para prever o valor médio das casas.\n",
    "\n",
    "- Configuração mínima: 3 camadas ocultas com 64, 32 e 16 neurônios, função de ativação ReLU.\n",
    "- Camada de saída com 1 neurônio, função de ativação Linear.\n",
    "- Função de perda: mse.\n",
    "- Otimizador: Adam.\n",
    "\n",
    "2. Comparar os resultados com um modelo do scikit-learn (LinearRegression ou\n",
    "   RandomForestRegressor).\n",
    "3. Registrar métricas de erro (RMSE ou MAE) e discutir qual modelo teve melhor desempenho\n"
   ]
  },
  {
   "cell_type": "code",
   "execution_count": 72,
   "id": "c2a2d803",
   "metadata": {},
   "outputs": [
    {
     "name": "stdout",
     "output_type": "stream",
     "text": [
      "(20640, 8) (20640,)\n",
      "['MedInc', 'HouseAge', 'AveRooms', 'AveBedrms', 'Population', 'AveOccup']\n"
     ]
    }
   ],
   "source": [
    "from sklearn.datasets import fetch_california_housing\n",
    "housing = fetch_california_housing()\n",
    "print(housing.data.shape, housing.target.shape)\n",
    "print(housing.feature_names[0:6])"
   ]
  },
  {
   "cell_type": "code",
   "execution_count": 113,
   "id": "89cf8665",
   "metadata": {},
   "outputs": [],
   "source": [
    "housing_feature = scaler.fit_transform(housing.data)\n",
    "housing_target = housing.target"
   ]
  },
  {
   "cell_type": "code",
   "execution_count": 106,
   "id": "b9d1bd55",
   "metadata": {},
   "outputs": [
    {
     "name": "stdout",
     "output_type": "stream",
     "text": [
      "(20640, 8)\n",
      "(20640,)\n"
     ]
    }
   ],
   "source": [
    "print(housing_feature.shape)\n",
    "print(housing_target.shape)"
   ]
  },
  {
   "cell_type": "code",
   "execution_count": 118,
   "id": "35264e9f",
   "metadata": {},
   "outputs": [],
   "source": [
    "x_housing_train, x_housing_test, y_housing_train, y_housing_test = train_test_split(\n",
    "    housing_feature,\n",
    "    housing_target,\n",
    "    test_size=0.2,\n",
    "    random_state=42,\n",
    ")"
   ]
  },
  {
   "cell_type": "code",
   "execution_count": 124,
   "id": "4e316931",
   "metadata": {},
   "outputs": [
    {
     "data": {
      "text/plain": [
       "array([0.19032151, 0.62745098, 0.02957193, 0.01995318, 0.06437961,\n",
       "       0.00241382, 0.01806589, 0.72908367])"
      ]
     },
     "execution_count": 124,
     "metadata": {},
     "output_type": "execute_result"
    }
   ],
   "source": [
    "x_housing_train[0]"
   ]
  },
  {
   "cell_type": "code",
   "execution_count": 125,
   "id": "2750cde7",
   "metadata": {},
   "outputs": [
    {
     "data": {
      "text/plain": [
       "np.float64(1.03)"
      ]
     },
     "execution_count": 125,
     "metadata": {},
     "output_type": "execute_result"
    }
   ],
   "source": [
    "y_housing_train[0]"
   ]
  },
  {
   "cell_type": "code",
   "execution_count": 132,
   "id": "e2210436",
   "metadata": {},
   "outputs": [],
   "source": [
    "housing_model = keras.Sequential(\n",
    "    [\n",
    "        Input(shape=(8,)),\n",
    "        layers.Dense(64, activation=\"relu\", kernel_regularizer=keras.regularizers.l2(0.001)),\n",
    "        layers.Dense(32, activation=\"relu\", kernel_regularizer=keras.regularizers.l2(0.001)),\n",
    "        layers.Dense(16, activation=\"relu\"),\n",
    "        layers.Dense(1),\n",
    "    ]\n",
    ")\n",
    "\n",
    "housing_model.compile(\n",
    "    optimizer=\"adam\", loss=\"mse\", metrics=[\"mae\"]\n",
    ")"
   ]
  },
  {
   "cell_type": "code",
   "execution_count": 134,
   "id": "b87e6e33",
   "metadata": {},
   "outputs": [
    {
     "name": "stdout",
     "output_type": "stream",
     "text": [
      "Epoch 1/50\n",
      "\u001b[1m465/465\u001b[0m \u001b[32m━━━━━━━━━━━━━━━━━━━━\u001b[0m\u001b[37m\u001b[0m \u001b[1m1s\u001b[0m 2ms/step - loss: 0.4916 - mae: 0.4843 - val_loss: 0.5576 - val_mae: 0.4824\n",
      "Epoch 2/50\n",
      "\u001b[1m465/465\u001b[0m \u001b[32m━━━━━━━━━━━━━━━━━━━━\u001b[0m\u001b[37m\u001b[0m \u001b[1m1s\u001b[0m 2ms/step - loss: 0.4791 - mae: 0.4754 - val_loss: 0.5138 - val_mae: 0.4742\n",
      "Epoch 3/50\n",
      "\u001b[1m465/465\u001b[0m \u001b[32m━━━━━━━━━━━━━━━━━━━━\u001b[0m\u001b[37m\u001b[0m \u001b[1m1s\u001b[0m 2ms/step - loss: 0.4734 - mae: 0.4719 - val_loss: 0.5011 - val_mae: 0.4833\n",
      "Epoch 4/50\n",
      "\u001b[1m465/465\u001b[0m \u001b[32m━━━━━━━━━━━━━━━━━━━━\u001b[0m\u001b[37m\u001b[0m \u001b[1m1s\u001b[0m 2ms/step - loss: 0.4679 - mae: 0.4676 - val_loss: 0.4973 - val_mae: 0.4630\n",
      "Epoch 5/50\n",
      "\u001b[1m465/465\u001b[0m \u001b[32m━━━━━━━━━━━━━━━━━━━━\u001b[0m\u001b[37m\u001b[0m \u001b[1m1s\u001b[0m 2ms/step - loss: 0.4647 - mae: 0.4664 - val_loss: 0.5211 - val_mae: 0.5297\n",
      "Epoch 6/50\n",
      "\u001b[1m465/465\u001b[0m \u001b[32m━━━━━━━━━━━━━━━━━━━━\u001b[0m\u001b[37m\u001b[0m \u001b[1m1s\u001b[0m 2ms/step - loss: 0.4679 - mae: 0.4692 - val_loss: 0.4873 - val_mae: 0.4727\n",
      "Epoch 7/50\n",
      "\u001b[1m465/465\u001b[0m \u001b[32m━━━━━━━━━━━━━━━━━━━━\u001b[0m\u001b[37m\u001b[0m \u001b[1m1s\u001b[0m 2ms/step - loss: 0.4584 - mae: 0.4625 - val_loss: 0.4852 - val_mae: 0.4719\n",
      "Epoch 8/50\n",
      "\u001b[1m465/465\u001b[0m \u001b[32m━━━━━━━━━━━━━━━━━━━━\u001b[0m\u001b[37m\u001b[0m \u001b[1m1s\u001b[0m 2ms/step - loss: 0.4528 - mae: 0.4597 - val_loss: 0.4878 - val_mae: 0.4541\n",
      "Epoch 9/50\n",
      "\u001b[1m465/465\u001b[0m \u001b[32m━━━━━━━━━━━━━━━━━━━━\u001b[0m\u001b[37m\u001b[0m \u001b[1m1s\u001b[0m 2ms/step - loss: 0.4552 - mae: 0.4605 - val_loss: 0.4729 - val_mae: 0.4691\n",
      "Epoch 10/50\n",
      "\u001b[1m465/465\u001b[0m \u001b[32m━━━━━━━━━━━━━━━━━━━━\u001b[0m\u001b[37m\u001b[0m \u001b[1m2s\u001b[0m 3ms/step - loss: 0.4506 - mae: 0.4586 - val_loss: 0.4716 - val_mae: 0.4696\n",
      "Epoch 11/50\n",
      "\u001b[1m465/465\u001b[0m \u001b[32m━━━━━━━━━━━━━━━━━━━━\u001b[0m\u001b[37m\u001b[0m \u001b[1m2s\u001b[0m 4ms/step - loss: 0.4496 - mae: 0.4576 - val_loss: 0.4716 - val_mae: 0.4733\n",
      "Epoch 12/50\n",
      "\u001b[1m465/465\u001b[0m \u001b[32m━━━━━━━━━━━━━━━━━━━━\u001b[0m\u001b[37m\u001b[0m \u001b[1m1s\u001b[0m 3ms/step - loss: 0.4455 - mae: 0.4533 - val_loss: 0.4704 - val_mae: 0.4728\n",
      "Epoch 13/50\n",
      "\u001b[1m465/465\u001b[0m \u001b[32m━━━━━━━━━━━━━━━━━━━━\u001b[0m\u001b[37m\u001b[0m \u001b[1m1s\u001b[0m 3ms/step - loss: 0.4481 - mae: 0.4560 - val_loss: 0.4795 - val_mae: 0.4583\n",
      "Epoch 14/50\n",
      "\u001b[1m465/465\u001b[0m \u001b[32m━━━━━━━━━━━━━━━━━━━━\u001b[0m\u001b[37m\u001b[0m \u001b[1m1s\u001b[0m 3ms/step - loss: 0.4391 - mae: 0.4507 - val_loss: 0.4984 - val_mae: 0.5197\n",
      "Epoch 15/50\n",
      "\u001b[1m465/465\u001b[0m \u001b[32m━━━━━━━━━━━━━━━━━━━━\u001b[0m\u001b[37m\u001b[0m \u001b[1m2s\u001b[0m 3ms/step - loss: 0.4392 - mae: 0.4498 - val_loss: 0.4623 - val_mae: 0.4450\n",
      "Epoch 16/50\n",
      "\u001b[1m465/465\u001b[0m \u001b[32m━━━━━━━━━━━━━━━━━━━━\u001b[0m\u001b[37m\u001b[0m \u001b[1m2s\u001b[0m 5ms/step - loss: 0.4393 - mae: 0.4510 - val_loss: 0.4601 - val_mae: 0.4608\n",
      "Epoch 17/50\n",
      "\u001b[1m465/465\u001b[0m \u001b[32m━━━━━━━━━━━━━━━━━━━━\u001b[0m\u001b[37m\u001b[0m \u001b[1m1s\u001b[0m 2ms/step - loss: 0.4349 - mae: 0.4485 - val_loss: 0.4696 - val_mae: 0.4540\n",
      "Epoch 18/50\n",
      "\u001b[1m465/465\u001b[0m \u001b[32m━━━━━━━━━━━━━━━━━━━━\u001b[0m\u001b[37m\u001b[0m \u001b[1m2s\u001b[0m 4ms/step - loss: 0.4301 - mae: 0.4464 - val_loss: 0.4573 - val_mae: 0.4758\n",
      "Epoch 19/50\n",
      "\u001b[1m465/465\u001b[0m \u001b[32m━━━━━━━━━━━━━━━━━━━━\u001b[0m\u001b[37m\u001b[0m \u001b[1m3s\u001b[0m 5ms/step - loss: 0.4346 - mae: 0.4487 - val_loss: 0.4560 - val_mae: 0.4453\n",
      "Epoch 20/50\n",
      "\u001b[1m465/465\u001b[0m \u001b[32m━━━━━━━━━━━━━━━━━━━━\u001b[0m\u001b[37m\u001b[0m \u001b[1m3s\u001b[0m 6ms/step - loss: 0.4304 - mae: 0.4461 - val_loss: 0.4457 - val_mae: 0.4435\n",
      "Epoch 21/50\n",
      "\u001b[1m465/465\u001b[0m \u001b[32m━━━━━━━━━━━━━━━━━━━━\u001b[0m\u001b[37m\u001b[0m \u001b[1m3s\u001b[0m 6ms/step - loss: 0.4305 - mae: 0.4470 - val_loss: 0.4805 - val_mae: 0.4416\n",
      "Epoch 22/50\n",
      "\u001b[1m465/465\u001b[0m \u001b[32m━━━━━━━━━━━━━━━━━━━━\u001b[0m\u001b[37m\u001b[0m \u001b[1m3s\u001b[0m 6ms/step - loss: 0.4313 - mae: 0.4461 - val_loss: 0.4520 - val_mae: 0.4680\n",
      "Epoch 23/50\n",
      "\u001b[1m465/465\u001b[0m \u001b[32m━━━━━━━━━━━━━━━━━━━━\u001b[0m\u001b[37m\u001b[0m \u001b[1m3s\u001b[0m 2ms/step - loss: 0.4249 - mae: 0.4436 - val_loss: 0.4397 - val_mae: 0.4496\n",
      "Epoch 24/50\n",
      "\u001b[1m465/465\u001b[0m \u001b[32m━━━━━━━━━━━━━━━━━━━━\u001b[0m\u001b[37m\u001b[0m \u001b[1m1s\u001b[0m 2ms/step - loss: 0.4234 - mae: 0.4426 - val_loss: 0.4541 - val_mae: 0.4347\n",
      "Epoch 25/50\n",
      "\u001b[1m465/465\u001b[0m \u001b[32m━━━━━━━━━━━━━━━━━━━━\u001b[0m\u001b[37m\u001b[0m \u001b[1m1s\u001b[0m 2ms/step - loss: 0.4259 - mae: 0.4437 - val_loss: 0.4787 - val_mae: 0.5015\n",
      "Epoch 26/50\n",
      "\u001b[1m465/465\u001b[0m \u001b[32m━━━━━━━━━━━━━━━━━━━━\u001b[0m\u001b[37m\u001b[0m \u001b[1m1s\u001b[0m 2ms/step - loss: 0.4206 - mae: 0.4385 - val_loss: 0.4435 - val_mae: 0.4369\n",
      "Epoch 27/50\n",
      "\u001b[1m465/465\u001b[0m \u001b[32m━━━━━━━━━━━━━━━━━━━━\u001b[0m\u001b[37m\u001b[0m \u001b[1m1s\u001b[0m 2ms/step - loss: 0.4209 - mae: 0.4412 - val_loss: 0.4373 - val_mae: 0.4465\n",
      "Epoch 28/50\n",
      "\u001b[1m465/465\u001b[0m \u001b[32m━━━━━━━━━━━━━━━━━━━━\u001b[0m\u001b[37m\u001b[0m \u001b[1m1s\u001b[0m 2ms/step - loss: 0.4189 - mae: 0.4394 - val_loss: 0.4485 - val_mae: 0.4372\n",
      "Epoch 29/50\n",
      "\u001b[1m465/465\u001b[0m \u001b[32m━━━━━━━━━━━━━━━━━━━━\u001b[0m\u001b[37m\u001b[0m \u001b[1m1s\u001b[0m 2ms/step - loss: 0.4191 - mae: 0.4394 - val_loss: 0.4543 - val_mae: 0.4330\n",
      "Epoch 30/50\n",
      "\u001b[1m465/465\u001b[0m \u001b[32m━━━━━━━━━━━━━━━━━━━━\u001b[0m\u001b[37m\u001b[0m \u001b[1m1s\u001b[0m 2ms/step - loss: 0.4205 - mae: 0.4406 - val_loss: 0.4485 - val_mae: 0.4537\n",
      "Epoch 31/50\n",
      "\u001b[1m465/465\u001b[0m \u001b[32m━━━━━━━━━━━━━━━━━━━━\u001b[0m\u001b[37m\u001b[0m \u001b[1m1s\u001b[0m 2ms/step - loss: 0.4163 - mae: 0.4383 - val_loss: 0.4399 - val_mae: 0.4392\n",
      "Epoch 32/50\n",
      "\u001b[1m465/465\u001b[0m \u001b[32m━━━━━━━━━━━━━━━━━━━━\u001b[0m\u001b[37m\u001b[0m \u001b[1m1s\u001b[0m 2ms/step - loss: 0.4216 - mae: 0.4404 - val_loss: 0.4370 - val_mae: 0.4574\n",
      "Epoch 33/50\n",
      "\u001b[1m465/465\u001b[0m \u001b[32m━━━━━━━━━━━━━━━━━━━━\u001b[0m\u001b[37m\u001b[0m \u001b[1m1s\u001b[0m 2ms/step - loss: 0.4167 - mae: 0.4384 - val_loss: 0.4399 - val_mae: 0.4376\n",
      "Epoch 34/50\n",
      "\u001b[1m465/465\u001b[0m \u001b[32m━━━━━━━━━━━━━━━━━━━━\u001b[0m\u001b[37m\u001b[0m \u001b[1m1s\u001b[0m 2ms/step - loss: 0.4203 - mae: 0.4398 - val_loss: 0.5355 - val_mae: 0.5555\n",
      "Epoch 35/50\n",
      "\u001b[1m465/465\u001b[0m \u001b[32m━━━━━━━━━━━━━━━━━━━━\u001b[0m\u001b[37m\u001b[0m \u001b[1m1s\u001b[0m 2ms/step - loss: 0.4159 - mae: 0.4371 - val_loss: 0.4279 - val_mae: 0.4326\n",
      "Epoch 36/50\n",
      "\u001b[1m465/465\u001b[0m \u001b[32m━━━━━━━━━━━━━━━━━━━━\u001b[0m\u001b[37m\u001b[0m \u001b[1m1s\u001b[0m 2ms/step - loss: 0.4148 - mae: 0.4378 - val_loss: 0.4304 - val_mae: 0.4383\n",
      "Epoch 37/50\n",
      "\u001b[1m465/465\u001b[0m \u001b[32m━━━━━━━━━━━━━━━━━━━━\u001b[0m\u001b[37m\u001b[0m \u001b[1m1s\u001b[0m 2ms/step - loss: 0.4100 - mae: 0.4333 - val_loss: 0.5059 - val_mae: 0.5395\n",
      "Epoch 38/50\n",
      "\u001b[1m465/465\u001b[0m \u001b[32m━━━━━━━━━━━━━━━━━━━━\u001b[0m\u001b[37m\u001b[0m \u001b[1m1s\u001b[0m 2ms/step - loss: 0.4131 - mae: 0.4372 - val_loss: 0.4369 - val_mae: 0.4383\n",
      "Epoch 39/50\n",
      "\u001b[1m465/465\u001b[0m \u001b[32m━━━━━━━━━━━━━━━━━━━━\u001b[0m\u001b[37m\u001b[0m \u001b[1m1s\u001b[0m 2ms/step - loss: 0.4120 - mae: 0.4334 - val_loss: 0.4231 - val_mae: 0.4332\n",
      "Epoch 40/50\n",
      "\u001b[1m465/465\u001b[0m \u001b[32m━━━━━━━━━━━━━━━━━━━━\u001b[0m\u001b[37m\u001b[0m \u001b[1m1s\u001b[0m 2ms/step - loss: 0.4124 - mae: 0.4345 - val_loss: 0.4388 - val_mae: 0.4358\n",
      "Epoch 41/50\n",
      "\u001b[1m465/465\u001b[0m \u001b[32m━━━━━━━━━━━━━━━━━━━━\u001b[0m\u001b[37m\u001b[0m \u001b[1m1s\u001b[0m 2ms/step - loss: 0.4107 - mae: 0.4350 - val_loss: 0.4246 - val_mae: 0.4403\n",
      "Epoch 42/50\n",
      "\u001b[1m465/465\u001b[0m \u001b[32m━━━━━━━━━━━━━━━━━━━━\u001b[0m\u001b[37m\u001b[0m \u001b[1m1s\u001b[0m 2ms/step - loss: 0.4113 - mae: 0.4342 - val_loss: 0.4289 - val_mae: 0.4369\n",
      "Epoch 43/50\n",
      "\u001b[1m465/465\u001b[0m \u001b[32m━━━━━━━━━━━━━━━━━━━━\u001b[0m\u001b[37m\u001b[0m \u001b[1m1s\u001b[0m 2ms/step - loss: 0.4044 - mae: 0.4303 - val_loss: 0.4270 - val_mae: 0.4289\n",
      "Epoch 44/50\n",
      "\u001b[1m465/465\u001b[0m \u001b[32m━━━━━━━━━━━━━━━━━━━━\u001b[0m\u001b[37m\u001b[0m \u001b[1m1s\u001b[0m 2ms/step - loss: 0.4069 - mae: 0.4315 - val_loss: 0.4169 - val_mae: 0.4207\n",
      "Epoch 45/50\n",
      "\u001b[1m465/465\u001b[0m \u001b[32m━━━━━━━━━━━━━━━━━━━━\u001b[0m\u001b[37m\u001b[0m \u001b[1m1s\u001b[0m 2ms/step - loss: 0.4022 - mae: 0.4271 - val_loss: 0.4201 - val_mae: 0.4242\n",
      "Epoch 46/50\n",
      "\u001b[1m465/465\u001b[0m \u001b[32m━━━━━━━━━━━━━━━━━━━━\u001b[0m\u001b[37m\u001b[0m \u001b[1m1s\u001b[0m 2ms/step - loss: 0.4032 - mae: 0.4287 - val_loss: 0.4196 - val_mae: 0.4397\n",
      "Epoch 47/50\n",
      "\u001b[1m465/465\u001b[0m \u001b[32m━━━━━━━━━━━━━━━━━━━━\u001b[0m\u001b[37m\u001b[0m \u001b[1m1s\u001b[0m 2ms/step - loss: 0.4020 - mae: 0.4290 - val_loss: 0.4190 - val_mae: 0.4231\n",
      "Epoch 48/50\n",
      "\u001b[1m465/465\u001b[0m \u001b[32m━━━━━━━━━━━━━━━━━━━━\u001b[0m\u001b[37m\u001b[0m \u001b[1m1s\u001b[0m 2ms/step - loss: 0.3987 - mae: 0.4260 - val_loss: 0.4258 - val_mae: 0.4309\n",
      "Epoch 49/50\n",
      "\u001b[1m465/465\u001b[0m \u001b[32m━━━━━━━━━━━━━━━━━━━━\u001b[0m\u001b[37m\u001b[0m \u001b[1m1s\u001b[0m 2ms/step - loss: 0.3968 - mae: 0.4258 - val_loss: 0.4073 - val_mae: 0.4235\n",
      "Epoch 50/50\n",
      "\u001b[1m465/465\u001b[0m \u001b[32m━━━━━━━━━━━━━━━━━━━━\u001b[0m\u001b[37m\u001b[0m \u001b[1m1s\u001b[0m 2ms/step - loss: 0.3974 - mae: 0.4258 - val_loss: 0.4191 - val_mae: 0.4548\n"
     ]
    }
   ],
   "source": [
    "housing_history = housing_model.fit(x_housing_train, y_housing_train, epochs=50, validation_split=0.1)"
   ]
  },
  {
   "cell_type": "code",
   "execution_count": 135,
   "id": "f8523fd7",
   "metadata": {},
   "outputs": [
    {
     "name": "stdout",
     "output_type": "stream",
     "text": [
      "\u001b[1m129/129\u001b[0m \u001b[32m━━━━━━━━━━━━━━━━━━━━\u001b[0m\u001b[37m\u001b[0m \u001b[1m0s\u001b[0m 1ms/step\n",
      "Rede Neural - RMSE: 0.6322, MAE: 0.4512\n"
     ]
    }
   ],
   "source": [
    "from sklearn.metrics import mean_squared_error, mean_absolute_error\n",
    "import numpy as np\n",
    "\n",
    "# Previsões\n",
    "y_pred = housing_model.predict(x_housing_test)\n",
    "\n",
    "# Erros\n",
    "mse = mean_squared_error(y_housing_test, y_pred)\n",
    "rmse = np.sqrt(mse)\n",
    "mae = mean_absolute_error(y_housing_test, y_pred)\n",
    "\n",
    "print(f\"Rede Neural - RMSE: {rmse:.4f}, MAE: {mae:.4f}\")\n"
   ]
  },
  {
   "cell_type": "code",
   "execution_count": 140,
   "id": "7bd3ce98",
   "metadata": {},
   "outputs": [],
   "source": [
    "from sklearn.linear_model import LinearRegression\n",
    "\n",
    "ln_model = LinearRegression()\n",
    "\n",
    "ln_train = ln_model.fit(x_housing_train, y_housing_train)"
   ]
  },
  {
   "cell_type": "code",
   "execution_count": 141,
   "id": "e17e6876",
   "metadata": {},
   "outputs": [
    {
     "data": {
      "text/plain": [
       "0.5757877060324512"
      ]
     },
     "execution_count": 141,
     "metadata": {},
     "output_type": "execute_result"
    }
   ],
   "source": [
    "ln_train.score(x_housing_test, y_housing_test)"
   ]
  },
  {
   "cell_type": "code",
   "execution_count": 143,
   "id": "6ef5b432",
   "metadata": {},
   "outputs": [
    {
     "name": "stdout",
     "output_type": "stream",
     "text": [
      "Regressão linear - RMSE: 0.7456, MAE: 0.5332\n"
     ]
    }
   ],
   "source": [
    "# Previsões\n",
    "y_pred = ln_train.predict(x_housing_test)\n",
    "\n",
    "# Erros\n",
    "mse = mean_squared_error(y_housing_test, y_pred)\n",
    "rmse = np.sqrt(mse)\n",
    "mae = mean_absolute_error(y_housing_test, y_pred)\n",
    "\n",
    "print(f\"Regressão linear - RMSE: {rmse:.4f}, MAE: {mae:.4f}\")\n"
   ]
  },
  {
   "cell_type": "markdown",
   "id": "10f67322",
   "metadata": {},
   "source": [
    "Ao se comparar uma Rede Neural com regressão linear utilizando o California Housing Dataset, percebemos que, a rede tem apresentado um desempenho ligeiramente melhor (RMSE: 0.63, MAE: 0.45) em relação à regressão linear (RMSE: 0.74, MAE: 0.53), nenhum dos dois modelos teve uma performance realmente satisfatória.\n",
    "\n",
    "Embora, as métricas sejam parecidas, RMSE e MSE, temos que para um bom modelos elas tem de se `aproximar de 0`. \n",
    "Outra métrica que temos é de R^2 = 0,5758 para a regressão linear, indicando que aquele modelo explica apenas metade da variação na variável\n",
    "\n",
    "--- \n",
    "\n",
    "## Parte 02 - Visão Computacional\n",
    "\n",
    "### 2.1 Roboflow"
   ]
  },
  {
   "cell_type": "code",
   "execution_count": null,
   "id": "0f6f8ceb",
   "metadata": {},
   "outputs": [],
   "source": [
    "!pip install roboflow     "
   ]
  },
  {
   "cell_type": "code",
   "execution_count": null,
   "id": "c2342247",
   "metadata": {},
   "outputs": [],
   "source": [
    "from roboflow import Roboflow\n",
    "rf = Roboflow(api_key=\"FXqaU8du4cqTJhwiG8vo\")\n",
    "project = rf.workspace(\"myfiap-ut6gb\").project(\"monster-bn5fz-nuvug\")\n",
    "version = project.version(1)\n",
    "dataset = version.download(\"yolov8\")"
   ]
  },
  {
   "cell_type": "code",
   "execution_count": null,
   "id": "3f4344ca",
   "metadata": {},
   "outputs": [],
   "source": [
    "!pip install inference-sdk"
   ]
  },
  {
   "cell_type": "markdown",
   "id": "38e0c1bc",
   "metadata": {},
   "source": [
    "---\n",
    "\n",
    "![image-01](data\\monster\\monster-01.jpg)"
   ]
  },
  {
   "cell_type": "code",
   "execution_count": 23,
   "id": "4f59761c",
   "metadata": {},
   "outputs": [
    {
     "name": "stdout",
     "output_type": "stream",
     "text": [
      "count_objects: 6\n",
      "\n",
      "output_image: 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\n",
      "\n",
      "predictions: {'image': {'width': 222, 'height': 227}, 'predictions': [{'width': 38.0, 'height': 95.0, 'x': 194.0, 'y': 167.5, 'confidence': 0.969810962677002, 'class_id': 0, 'class': '--------355ML', 'detection_id': '08591fd1-2b11-458b-a47c-86c10403d84a', 'parent_id': 'image'}, {'width': 37.0, 'height': 91.0, 'x': 29.5, 'y': 170.5, 'confidence': 0.9636960625648499, 'class_id': 0, 'class': '--------355ML', 'detection_id': '9eafb0b7-ae87-4bd7-8a08-9d2b89805b6e', 'parent_id': 'image'}, {'width': 38.0, 'height': 93.0, 'x': 192.0, 'y': 65.5, 'confidence': 0.953715980052948, 'class_id': 0, 'class': '--------355ML', 'detection_id': '6c43084e-5599-4385-871f-361fd0670a8c', 'parent_id': 'image'}, {'width': 41.0, 'height': 104.0, 'x': 142.5, 'y': 152.0, 'confidence': 0.9534558057785034, 'class_id': 0, 'class': '--------355ML', 'detection_id': 'd9f692d7-079d-4550-9b53-8157cfad7689', 'parent_id': 'image'}, {'width': 39.0, 'height': 95.0, 'x': 30.5, 'y': 58.5, 'confidence': 0.9453584551811218, 'class_id': 0, 'class': '--------355ML', 'detection_id': '81d22230-5cea-4feb-baae-96fb08763344', 'parent_id': 'image'}, {'width': 40.0, 'height': 100.0, 'x': 86.0, 'y': 86.0, 'confidence': 0.9360145330429077, 'class_id': 0, 'class': '--------355ML', 'detection_id': 'b4538417-cbbb-4bd4-aed1-36892aaa39cd', 'parent_id': 'image'}]}\n",
      "\n"
     ]
    }
   ],
   "source": [
    "# 1. Import the library\n",
    "from inference_sdk import InferenceHTTPClient\n",
    "\n",
    "# 2. Connect to your workflow\n",
    "client = InferenceHTTPClient(\n",
    "    api_url=\"https://serverless.roboflow.com\",\n",
    "    api_key=\"FXqaU8du4cqTJhwiG8vo\"\n",
    ")\n",
    "\n",
    "# 3. Run your workflow on an image\n",
    "result = client.run_workflow(\n",
    "    workspace_name=\"myfiap-ut6gb\",\n",
    "    workflow_id=\"detect-count-and-visualize\",\n",
    "    images={\n",
    "        \"image\": \"data\\monster\\monster-01.jpg\" # Path to your image file\n",
    "    },\n",
    "    use_cache=True # Speeds up repeated requests\n",
    ")\n",
    "\n",
    "# 4. Get your results\n",
    "for key, value in result[0].items():\n",
    "    print(f\"{key}: {value}\\n\")\n"
   ]
  },
  {
   "cell_type": "markdown",
   "id": "ef312e3d",
   "metadata": {},
   "source": [
    "--- \n",
    "\n",
    "![image-02](data\\monster\\monster-02.jpg)"
   ]
  },
  {
   "cell_type": "code",
   "execution_count": 24,
   "id": "47986f48",
   "metadata": {},
   "outputs": [
    {
     "name": "stdout",
     "output_type": "stream",
     "text": [
      "count_objects: 4\n",
      "\n",
      "output_image: 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\n",
      "\n",
      "predictions: {'image': {'width': 225, 'height': 225}, 'predictions': [{'width': 38.0, 'height': 91.0, 'x': 130.0, 'y': 154.5, 'confidence': 0.9558137655258179, 'class_id': 0, 'class': '--------355ML', 'detection_id': '3a8e7173-24b3-4cef-869a-4cffe8c01c98', 'parent_id': 'image'}, {'width': 38.0, 'height': 92.0, 'x': 94.0, 'y': 154.0, 'confidence': 0.9382644891738892, 'class_id': 0, 'class': '--------355ML', 'detection_id': '5dcbb2a0-f0bb-4917-812e-cf99cdcd3b67', 'parent_id': 'image'}, {'width': 39.0, 'height': 94.0, 'x': 205.5, 'y': 157.0, 'confidence': 0.830060601234436, 'class_id': 0, 'class': '--------355ML', 'detection_id': '9ffaf14d-e155-43cd-8335-6e1d33b8410b', 'parent_id': 'image'}, {'width': 37.0, 'height': 171.0, 'x': 20.5, 'y': 103.5, 'confidence': 0.8067678213119507, 'class_id': 0, 'class': '--------355ML', 'detection_id': '8a4e7b9e-73df-492c-a27d-1c45c49e3a9d', 'parent_id': 'image'}]}\n",
      "\n"
     ]
    }
   ],
   "source": [
    "# 3. Run your workflow on an image\n",
    "result = client.run_workflow(\n",
    "    workspace_name=\"myfiap-ut6gb\",\n",
    "    workflow_id=\"detect-count-and-visualize\",\n",
    "    images={\n",
    "        \"image\": \"data\\monster\\monster-02.jpg\" # Path to your image file\n",
    "    },\n",
    "    use_cache=True # Speeds up repeated requests\n",
    ")\n",
    "\n",
    "# 4. Get your results\n",
    "for key, value in result[0].items():\n",
    "    print(f\"{key}: {value}\\n\")\n"
   ]
  },
  {
   "cell_type": "markdown",
   "id": "7a9f93d1",
   "metadata": {},
   "source": [
    "### 2.2 YOLOv8"
   ]
  },
  {
   "cell_type": "code",
   "execution_count": null,
   "id": "b659df95",
   "metadata": {},
   "outputs": [],
   "source": [
    "!pip install ultralytics roboflow"
   ]
  },
  {
   "cell_type": "code",
   "execution_count": null,
   "id": "34a820dc",
   "metadata": {},
   "outputs": [],
   "source": [
    "\n",
    "from roboflow import Roboflow\n",
    "from ultralytics import YOLO\n",
    "\n",
    "model = YOLO(\"yolov8n.pt\")  \n",
    "\n",
    "model.train(data=dataset.location + \"/data.yaml\", epochs=20, imgsz=640)\n",
    "\n",
    "metrics = model.val()\n"
   ]
  },
  {
   "cell_type": "code",
   "execution_count": 20,
   "id": "baafc46f",
   "metadata": {},
   "outputs": [
    {
     "name": "stdout",
     "output_type": "stream",
     "text": [
      "Precisão média (mp): 0.974\n",
      "Recall médio (mr): 1.000\n",
      "mAP@0.5: 0.993\n",
      "mAP@0.5:0.95: 0.957\n"
     ]
    }
   ],
   "source": [
    "# As métricas principais do YOLOv8\n",
    "mp, mr, map50, map95 = metrics.mean_results() \n",
    "\n",
    "print(f\"Precisão média (mp): {mp:.3f}\")\n",
    "print(f\"Recall médio (mr): {mr:.3f}\")\n",
    "print(f\"mAP@0.5: {map50:.3f}\")\n",
    "print(f\"mAP@0.5:0.95: {map95:.3f}\")\n"
   ]
  },
  {
   "cell_type": "code",
   "execution_count": null,
   "id": "7a729046",
   "metadata": {},
   "outputs": [],
   "source": [
    "model.export(format=\"onnx\")  "
   ]
  },
  {
   "cell_type": "markdown",
   "id": "da8fdd75",
   "metadata": {},
   "source": [
    "--- \n",
    "\n",
    "![image-02](data\\monster\\monster-01.jpg)"
   ]
  },
  {
   "cell_type": "code",
   "execution_count": 25,
   "id": "904c84bc",
   "metadata": {},
   "outputs": [
    {
     "name": "stdout",
     "output_type": "stream",
     "text": [
      "\n",
      "image 1/1 c:\\Users\\xfran\\Desktop\\2TDSPV\\Entrega-CheckPoint\\IOT-IOB-GENERATIVE-IA-CP05\\data\\monster\\monster-01.jpg: 640x640 6 --------355MLs, 179.2ms\n",
      "Speed: 4.7ms preprocess, 179.2ms inference, 1.1ms postprocess per image at shape (1, 3, 640, 640)\n",
      "[ultralytics.engine.results.Results object with attributes:\n",
      "\n",
      "boxes: ultralytics.engine.results.Boxes object\n",
      "keypoints: None\n",
      "masks: None\n",
      "names: {0: '--------355ML'}\n",
      "obb: None\n",
      "orig_img: array([[[255, 255, 255],\n",
      "        [255, 255, 255],\n",
      "        [255, 255, 255],\n",
      "        ...,\n",
      "        [255, 255, 255],\n",
      "        [255, 255, 255],\n",
      "        [255, 255, 255]],\n",
      "\n",
      "       [[255, 255, 255],\n",
      "        [255, 255, 255],\n",
      "        [255, 255, 255],\n",
      "        ...,\n",
      "        [255, 255, 255],\n",
      "        [255, 255, 255],\n",
      "        [255, 255, 255]],\n",
      "\n",
      "       [[255, 255, 255],\n",
      "        [255, 255, 255],\n",
      "        [255, 255, 255],\n",
      "        ...,\n",
      "        [255, 255, 255],\n",
      "        [255, 255, 255],\n",
      "        [255, 255, 255]],\n",
      "\n",
      "       ...,\n",
      "\n",
      "       [[255, 255, 255],\n",
      "        [255, 255, 255],\n",
      "        [255, 255, 255],\n",
      "        ...,\n",
      "        [255, 255, 255],\n",
      "        [255, 255, 255],\n",
      "        [255, 255, 255]],\n",
      "\n",
      "       [[255, 255, 255],\n",
      "        [255, 255, 255],\n",
      "        [255, 255, 255],\n",
      "        ...,\n",
      "        [255, 255, 255],\n",
      "        [255, 255, 255],\n",
      "        [255, 255, 255]],\n",
      "\n",
      "       [[255, 255, 255],\n",
      "        [255, 255, 255],\n",
      "        [255, 255, 255],\n",
      "        ...,\n",
      "        [255, 255, 255],\n",
      "        [255, 255, 255],\n",
      "        [255, 255, 255]]], shape=(227, 222, 3), dtype=uint8)\n",
      "orig_shape: (227, 222)\n",
      "path: 'c:\\\\Users\\\\xfran\\\\Desktop\\\\2TDSPV\\\\Entrega-CheckPoint\\\\IOT-IOB-GENERATIVE-IA-CP05\\\\data\\\\monster\\\\monster-01.jpg'\n",
      "probs: None\n",
      "save_dir: 'C:\\\\Users\\\\xfran\\\\Desktop\\\\2TDSPV\\\\Entrega-CheckPoint\\\\IOT-IOB-GENERATIVE-IA-CP05\\\\runs\\\\detect\\\\predict'\n",
      "speed: {'preprocess': 4.7156000073300675, 'inference': 179.15190001076553, 'postprocess': 1.061999995727092}]\n"
     ]
    }
   ],
   "source": [
    "results = model.predict(source=\"data\\monster\\monster-01.jpg\", show=True)\n",
    "\n",
    "print(results)"
   ]
  },
  {
   "cell_type": "markdown",
   "id": "abf88d97",
   "metadata": {},
   "source": [
    "--- \n",
    "\n",
    "![image-02](data\\monster\\monster-02.jpg)"
   ]
  },
  {
   "cell_type": "code",
   "execution_count": 26,
   "id": "6ea0096e",
   "metadata": {},
   "outputs": [
    {
     "name": "stdout",
     "output_type": "stream",
     "text": [
      "\n",
      "image 1/1 c:\\Users\\xfran\\Desktop\\2TDSPV\\Entrega-CheckPoint\\IOT-IOB-GENERATIVE-IA-CP05\\data\\monster\\monster-02.jpg: 640x640 5 --------355MLs, 203.4ms\n",
      "Speed: 6.3ms preprocess, 203.4ms inference, 2.9ms postprocess per image at shape (1, 3, 640, 640)\n",
      "[ultralytics.engine.results.Results object with attributes:\n",
      "\n",
      "boxes: ultralytics.engine.results.Boxes object\n",
      "keypoints: None\n",
      "masks: None\n",
      "names: {0: '--------355ML'}\n",
      "obb: None\n",
      "orig_img: array([[[255, 255, 255],\n",
      "        [255, 255, 255],\n",
      "        [255, 255, 255],\n",
      "        ...,\n",
      "        [255, 255, 255],\n",
      "        [255, 255, 255],\n",
      "        [255, 255, 255]],\n",
      "\n",
      "       [[255, 255, 255],\n",
      "        [255, 255, 255],\n",
      "        [255, 255, 255],\n",
      "        ...,\n",
      "        [255, 255, 255],\n",
      "        [255, 255, 255],\n",
      "        [255, 255, 255]],\n",
      "\n",
      "       [[255, 255, 255],\n",
      "        [255, 255, 255],\n",
      "        [255, 255, 255],\n",
      "        ...,\n",
      "        [255, 255, 255],\n",
      "        [255, 255, 255],\n",
      "        [255, 255, 255]],\n",
      "\n",
      "       ...,\n",
      "\n",
      "       [[255, 255, 255],\n",
      "        [255, 255, 255],\n",
      "        [255, 255, 255],\n",
      "        ...,\n",
      "        [255, 255, 255],\n",
      "        [255, 255, 255],\n",
      "        [255, 255, 255]],\n",
      "\n",
      "       [[255, 255, 255],\n",
      "        [255, 255, 255],\n",
      "        [255, 255, 255],\n",
      "        ...,\n",
      "        [255, 255, 255],\n",
      "        [255, 255, 255],\n",
      "        [255, 255, 255]],\n",
      "\n",
      "       [[255, 255, 255],\n",
      "        [255, 255, 255],\n",
      "        [255, 255, 255],\n",
      "        ...,\n",
      "        [255, 255, 255],\n",
      "        [255, 255, 255],\n",
      "        [255, 255, 255]]], shape=(225, 225, 3), dtype=uint8)\n",
      "orig_shape: (225, 225)\n",
      "path: 'c:\\\\Users\\\\xfran\\\\Desktop\\\\2TDSPV\\\\Entrega-CheckPoint\\\\IOT-IOB-GENERATIVE-IA-CP05\\\\data\\\\monster\\\\monster-02.jpg'\n",
      "probs: None\n",
      "save_dir: 'C:\\\\Users\\\\xfran\\\\Desktop\\\\2TDSPV\\\\Entrega-CheckPoint\\\\IOT-IOB-GENERATIVE-IA-CP05\\\\runs\\\\detect\\\\predict'\n",
      "speed: {'preprocess': 6.346900001517497, 'inference': 203.41309999639634, 'postprocess': 2.902899999753572}]\n"
     ]
    }
   ],
   "source": [
    "results = model.predict(source=\"data\\monster\\monster-02.jpg\", show=True)\n",
    "\n",
    "print(results)"
   ]
  }
 ],
 "metadata": {
  "kernelspec": {
   "display_name": ".venv",
   "language": "python",
   "name": "python3"
  },
  "language_info": {
   "codemirror_mode": {
    "name": "ipython",
    "version": 3
   },
   "file_extension": ".py",
   "mimetype": "text/x-python",
   "name": "python",
   "nbconvert_exporter": "python",
   "pygments_lexer": "ipython3",
   "version": "3.11.7"
  }
 },
 "nbformat": 4,
 "nbformat_minor": 5
}
