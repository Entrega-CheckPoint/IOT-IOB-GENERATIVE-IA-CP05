{
 "cells": [
  {
   "cell_type": "code",
   "execution_count": 60,
   "id": "565bbf59",
   "metadata": {},
   "outputs": [],
   "source": [
    "from tensorflow.keras import models, layers, regularizers, Input\n",
    "from tensorflow.keras.models import load_model\n",
    "from sklearn.preprocessing import MinMaxScaler\n",
    "from tensorflow import keras\n",
    "import matplotlib.pyplot as plt\n",
    "import tensorflow as tf\n",
    "import pandas as pd\n",
    "import numpy as np"
   ]
  },
  {
   "cell_type": "markdown",
   "id": "0a4f05c3",
   "metadata": {},
   "source": [
    "#### EXERCÍCIO 1 – CLASSIFICAÇÃO MULTICLASSE\n",
    "\n",
    "Dataset: Wine Dataset (UCI)\n",
    "\n",
    "1. Treinar uma rede neural em Keras para classificar vinhos em 3 classes.\n",
    "\n",
    "- Configuração mínima: 2 camadas ocultas com 32 neurônios cada, função de ativação ReLU.\n",
    "- Camada de saída com 3 neurônios, função de ativação Softmax.\n",
    "- Função de perda: categorical_crossentropy.\n",
    "- Otimizador: Adam.\n",
    "\n",
    "2. Comparar os resultados com um modelo do scikit-learn (RandomForestClassifier ou\n",
    "   LogisticRegression).\n",
    "3. Registrar métricas de acurácia e discutir qual modelo teve melhor desempenho.\n"
   ]
  },
  {
   "cell_type": "code",
   "execution_count": 61,
   "id": "81bbfe8a",
   "metadata": {},
   "outputs": [
    {
     "data": {
      "text/plain": [
       "['Alcohol',\n",
       " 'Malic acid',\n",
       " 'Ash',\n",
       " 'Alcalinity of ash',\n",
       " 'Magnesium',\n",
       " 'Total phenols',\n",
       " 'Flavanoids',\n",
       " 'Nonflavanoid phenols',\n",
       " 'Proanthocyanins',\n",
       " 'Color intensity',\n",
       " 'Hue',\n",
       " 'OD280/OD315 of diluted wines',\n",
       " 'Proline']"
      ]
     },
     "execution_count": 61,
     "metadata": {},
     "output_type": "execute_result"
    }
   ],
   "source": [
    "lista = [\n",
    "    \" Alcohol\",\n",
    "    \" Malic acid\",\n",
    "    \" Ash\",\n",
    "    \" Alcalinity of ash  \",\n",
    "    \" Magnesium\",\n",
    "    \" Total phenols\",\n",
    "    \" Flavanoids\",\n",
    "    \" Nonflavanoid phenols\",\n",
    "    \" Proanthocyanins\",\n",
    "    \"Color intensity\",\n",
    "    \"Hue\",\n",
    "    \"OD280/OD315 of diluted wines\",\n",
    "    \"Proline            \",\n",
    "]\n",
    "\n",
    "lista = [x.strip() for x in lista]\n",
    "lista"
   ]
  },
  {
   "cell_type": "code",
   "execution_count": 62,
   "id": "171a0f2a",
   "metadata": {},
   "outputs": [
    {
     "data": {
      "text/html": [
       "<div>\n",
       "<style scoped>\n",
       "    .dataframe tbody tr th:only-of-type {\n",
       "        vertical-align: middle;\n",
       "    }\n",
       "\n",
       "    .dataframe tbody tr th {\n",
       "        vertical-align: top;\n",
       "    }\n",
       "\n",
       "    .dataframe thead th {\n",
       "        text-align: right;\n",
       "    }\n",
       "</style>\n",
       "<table border=\"1\" class=\"dataframe\">\n",
       "  <thead>\n",
       "    <tr style=\"text-align: right;\">\n",
       "      <th></th>\n",
       "      <th>Class</th>\n",
       "      <th>Alcohol</th>\n",
       "      <th>Malic acid</th>\n",
       "      <th>Ash</th>\n",
       "      <th>Alcalinity of ash</th>\n",
       "      <th>Magnesium</th>\n",
       "      <th>Total phenols</th>\n",
       "      <th>Flavanoids</th>\n",
       "      <th>Nonflavanoid phenols</th>\n",
       "      <th>Proanthocyanins</th>\n",
       "      <th>Color intensity</th>\n",
       "      <th>Hue</th>\n",
       "      <th>OD280/OD315 of diluted wines</th>\n",
       "      <th>Proline</th>\n",
       "    </tr>\n",
       "  </thead>\n",
       "  <tbody>\n",
       "    <tr>\n",
       "      <th>0</th>\n",
       "      <td>1</td>\n",
       "      <td>14.23</td>\n",
       "      <td>1.71</td>\n",
       "      <td>2.43</td>\n",
       "      <td>15.6</td>\n",
       "      <td>127</td>\n",
       "      <td>2.80</td>\n",
       "      <td>3.06</td>\n",
       "      <td>0.28</td>\n",
       "      <td>2.29</td>\n",
       "      <td>5.64</td>\n",
       "      <td>1.04</td>\n",
       "      <td>3.92</td>\n",
       "      <td>1065</td>\n",
       "    </tr>\n",
       "    <tr>\n",
       "      <th>1</th>\n",
       "      <td>1</td>\n",
       "      <td>13.20</td>\n",
       "      <td>1.78</td>\n",
       "      <td>2.14</td>\n",
       "      <td>11.2</td>\n",
       "      <td>100</td>\n",
       "      <td>2.65</td>\n",
       "      <td>2.76</td>\n",
       "      <td>0.26</td>\n",
       "      <td>1.28</td>\n",
       "      <td>4.38</td>\n",
       "      <td>1.05</td>\n",
       "      <td>3.40</td>\n",
       "      <td>1050</td>\n",
       "    </tr>\n",
       "    <tr>\n",
       "      <th>2</th>\n",
       "      <td>1</td>\n",
       "      <td>13.16</td>\n",
       "      <td>2.36</td>\n",
       "      <td>2.67</td>\n",
       "      <td>18.6</td>\n",
       "      <td>101</td>\n",
       "      <td>2.80</td>\n",
       "      <td>3.24</td>\n",
       "      <td>0.30</td>\n",
       "      <td>2.81</td>\n",
       "      <td>5.68</td>\n",
       "      <td>1.03</td>\n",
       "      <td>3.17</td>\n",
       "      <td>1185</td>\n",
       "    </tr>\n",
       "    <tr>\n",
       "      <th>3</th>\n",
       "      <td>1</td>\n",
       "      <td>14.37</td>\n",
       "      <td>1.95</td>\n",
       "      <td>2.50</td>\n",
       "      <td>16.8</td>\n",
       "      <td>113</td>\n",
       "      <td>3.85</td>\n",
       "      <td>3.49</td>\n",
       "      <td>0.24</td>\n",
       "      <td>2.18</td>\n",
       "      <td>7.80</td>\n",
       "      <td>0.86</td>\n",
       "      <td>3.45</td>\n",
       "      <td>1480</td>\n",
       "    </tr>\n",
       "    <tr>\n",
       "      <th>4</th>\n",
       "      <td>1</td>\n",
       "      <td>13.24</td>\n",
       "      <td>2.59</td>\n",
       "      <td>2.87</td>\n",
       "      <td>21.0</td>\n",
       "      <td>118</td>\n",
       "      <td>2.80</td>\n",
       "      <td>2.69</td>\n",
       "      <td>0.39</td>\n",
       "      <td>1.82</td>\n",
       "      <td>4.32</td>\n",
       "      <td>1.04</td>\n",
       "      <td>2.93</td>\n",
       "      <td>735</td>\n",
       "    </tr>\n",
       "  </tbody>\n",
       "</table>\n",
       "</div>"
      ],
      "text/plain": [
       "   Class  Alcohol  Malic acid   Ash  Alcalinity of ash  Magnesium  \\\n",
       "0      1    14.23        1.71  2.43               15.6        127   \n",
       "1      1    13.20        1.78  2.14               11.2        100   \n",
       "2      1    13.16        2.36  2.67               18.6        101   \n",
       "3      1    14.37        1.95  2.50               16.8        113   \n",
       "4      1    13.24        2.59  2.87               21.0        118   \n",
       "\n",
       "   Total phenols  Flavanoids  Nonflavanoid phenols  Proanthocyanins  \\\n",
       "0           2.80        3.06                  0.28             2.29   \n",
       "1           2.65        2.76                  0.26             1.28   \n",
       "2           2.80        3.24                  0.30             2.81   \n",
       "3           3.85        3.49                  0.24             2.18   \n",
       "4           2.80        2.69                  0.39             1.82   \n",
       "\n",
       "   Color intensity   Hue  OD280/OD315 of diluted wines  Proline  \n",
       "0             5.64  1.04                          3.92     1065  \n",
       "1             4.38  1.05                          3.40     1050  \n",
       "2             5.68  1.03                          3.17     1185  \n",
       "3             7.80  0.86                          3.45     1480  \n",
       "4             4.32  1.04                          2.93      735  "
      ]
     },
     "execution_count": 62,
     "metadata": {},
     "output_type": "execute_result"
    }
   ],
   "source": [
    "# input de dados\n",
    "\n",
    "COLUMN_NAMES = [\n",
    "    \"Class\",\n",
    "    \"Alcohol\",\n",
    "    \"Malic acid\",\n",
    "    \"Ash\",\n",
    "    \"Alcalinity of ash\",\n",
    "    \"Magnesium\",\n",
    "    \"Total phenols\",\n",
    "    \"Flavanoids\",\n",
    "    \"Nonflavanoid phenols\",\n",
    "    \"Proanthocyanins\",\n",
    "    \"Color intensity\",\n",
    "    \"Hue\",\n",
    "    \"OD280/OD315 of diluted wines\",\n",
    "    \"Proline\",\n",
    "]\n",
    "\n",
    "\n",
    "\n",
    "df_wine = pd.read_csv(\"data/wine/wine.data\", header=None, names=COLUMN_NAMES)\n",
    "\n",
    "df_wine.head()"
   ]
  },
  {
   "cell_type": "code",
   "execution_count": 63,
   "id": "3df8bb7c",
   "metadata": {},
   "outputs": [],
   "source": [
    "X = df_wine.drop(\"Class\", axis=1).copy()\n",
    "y = df_wine[\"Class\"].copy()\n",
    "\n",
    "scaler = MinMaxScaler()\n",
    "\n",
    "feature = scaler.fit_transform(np.array(X))\n",
    "target = np.array(y)"
   ]
  },
  {
   "cell_type": "code",
   "execution_count": 64,
   "id": "0e18ead1",
   "metadata": {},
   "outputs": [],
   "source": [
    "from sklearn.model_selection import train_test_split\n",
    "\n",
    "X_train, X_test, y_train, y_test = train_test_split(\n",
    "    feature, target, test_size=0.2, random_state=42, stratify=target\n",
    ")\n",
    "\n",
    "y_train = y_train - 1\n",
    "y_test = y_test - 1"
   ]
  },
  {
   "cell_type": "code",
   "execution_count": 65,
   "id": "e8259903",
   "metadata": {},
   "outputs": [
    {
     "data": {
      "text/plain": [
       "(142, 13)"
      ]
     },
     "execution_count": 65,
     "metadata": {},
     "output_type": "execute_result"
    }
   ],
   "source": [
    "X_train.shape"
   ]
  },
  {
   "cell_type": "code",
   "execution_count": 66,
   "id": "471df3b7",
   "metadata": {},
   "outputs": [],
   "source": [
    "model = keras.Sequential(\n",
    "    [\n",
    "        Input(shape=(13,)),\n",
    "        layers.Dense(32, activation=\"relu\", kernel_regularizer=keras.regularizers.l2(0.001)),\n",
    "        layers.Dense(32, activation=\"relu\"),\n",
    "        layers.Dense(3, activation=\"softmax\"),\n",
    "    ]\n",
    ")\n",
    "\n",
    "model.compile(\n",
    "    optimizer=\"adam\", loss=\"sparse_categorical_crossentropy\", metrics=[\"accuracy\"]\n",
    ")"
   ]
  },
  {
   "cell_type": "code",
   "execution_count": 67,
   "id": "878f2474",
   "metadata": {},
   "outputs": [
    {
     "name": "stdout",
     "output_type": "stream",
     "text": [
      "Epoch 1/25\n",
      "\u001b[1m4/4\u001b[0m \u001b[32m━━━━━━━━━━━━━━━━━━━━\u001b[0m\u001b[37m\u001b[0m \u001b[1m1s\u001b[0m 92ms/step - accuracy: 0.1732 - loss: 1.2059 - val_accuracy: 0.3333 - val_loss: 1.1432\n",
      "Epoch 2/25\n",
      "\u001b[1m4/4\u001b[0m \u001b[32m━━━━━━━━━━━━━━━━━━━━\u001b[0m\u001b[37m\u001b[0m \u001b[1m0s\u001b[0m 28ms/step - accuracy: 0.1024 - loss: 1.1501 - val_accuracy: 0.2000 - val_loss: 1.1310\n",
      "Epoch 3/25\n",
      "\u001b[1m4/4\u001b[0m \u001b[32m━━━━━━━━━━━━━━━━━━━━\u001b[0m\u001b[37m\u001b[0m \u001b[1m0s\u001b[0m 34ms/step - accuracy: 0.2992 - loss: 1.1093 - val_accuracy: 0.2000 - val_loss: 1.1244\n",
      "Epoch 4/25\n",
      "\u001b[1m4/4\u001b[0m \u001b[32m━━━━━━━━━━━━━━━━━━━━\u001b[0m\u001b[37m\u001b[0m \u001b[1m0s\u001b[0m 33ms/step - accuracy: 0.4882 - loss: 1.0786 - val_accuracy: 0.2667 - val_loss: 1.1185\n",
      "Epoch 5/25\n",
      "\u001b[1m4/4\u001b[0m \u001b[32m━━━━━━━━━━━━━━━━━━━━\u001b[0m\u001b[37m\u001b[0m \u001b[1m0s\u001b[0m 34ms/step - accuracy: 0.5197 - loss: 1.0502 - val_accuracy: 0.3333 - val_loss: 1.1092\n",
      "Epoch 6/25\n",
      "\u001b[1m4/4\u001b[0m \u001b[32m━━━━━━━━━━━━━━━━━━━━\u001b[0m\u001b[37m\u001b[0m \u001b[1m0s\u001b[0m 47ms/step - accuracy: 0.5591 - loss: 1.0296 - val_accuracy: 0.3333 - val_loss: 1.0992\n",
      "Epoch 7/25\n",
      "\u001b[1m4/4\u001b[0m \u001b[32m━━━━━━━━━━━━━━━━━━━━\u001b[0m\u001b[37m\u001b[0m \u001b[1m0s\u001b[0m 32ms/step - accuracy: 0.5748 - loss: 1.0117 - val_accuracy: 0.3333 - val_loss: 1.0893\n",
      "Epoch 8/25\n",
      "\u001b[1m4/4\u001b[0m \u001b[32m━━━━━━━━━━━━━━━━━━━━\u001b[0m\u001b[37m\u001b[0m \u001b[1m0s\u001b[0m 37ms/step - accuracy: 0.5748 - loss: 0.9925 - val_accuracy: 0.3333 - val_loss: 1.0758\n",
      "Epoch 9/25\n",
      "\u001b[1m4/4\u001b[0m \u001b[32m━━━━━━━━━━━━━━━━━━━━\u001b[0m\u001b[37m\u001b[0m \u001b[1m0s\u001b[0m 30ms/step - accuracy: 0.6142 - loss: 0.9743 - val_accuracy: 0.3333 - val_loss: 1.0619\n",
      "Epoch 10/25\n",
      "\u001b[1m4/4\u001b[0m \u001b[32m━━━━━━━━━━━━━━━━━━━━\u001b[0m\u001b[37m\u001b[0m \u001b[1m0s\u001b[0m 31ms/step - accuracy: 0.6457 - loss: 0.9567 - val_accuracy: 0.3333 - val_loss: 1.0446\n",
      "Epoch 11/25\n",
      "\u001b[1m4/4\u001b[0m \u001b[32m━━━━━━━━━━━━━━━━━━━━\u001b[0m\u001b[37m\u001b[0m \u001b[1m0s\u001b[0m 65ms/step - accuracy: 0.6457 - loss: 0.9376 - val_accuracy: 0.3333 - val_loss: 1.0238\n",
      "Epoch 12/25\n",
      "\u001b[1m4/4\u001b[0m \u001b[32m━━━━━━━━━━━━━━━━━━━━\u001b[0m\u001b[37m\u001b[0m \u001b[1m0s\u001b[0m 30ms/step - accuracy: 0.6535 - loss: 0.9182 - val_accuracy: 0.3333 - val_loss: 1.0036\n",
      "Epoch 13/25\n",
      "\u001b[1m4/4\u001b[0m \u001b[32m━━━━━━━━━━━━━━━━━━━━\u001b[0m\u001b[37m\u001b[0m \u001b[1m0s\u001b[0m 29ms/step - accuracy: 0.6614 - loss: 0.8983 - val_accuracy: 0.3333 - val_loss: 0.9820\n",
      "Epoch 14/25\n",
      "\u001b[1m4/4\u001b[0m \u001b[32m━━━━━━━━━━━━━━━━━━━━\u001b[0m\u001b[37m\u001b[0m \u001b[1m0s\u001b[0m 29ms/step - accuracy: 0.6614 - loss: 0.8780 - val_accuracy: 0.3333 - val_loss: 0.9600\n",
      "Epoch 15/25\n",
      "\u001b[1m4/4\u001b[0m \u001b[32m━━━━━━━━━━━━━━━━━━━━\u001b[0m\u001b[37m\u001b[0m \u001b[1m0s\u001b[0m 34ms/step - accuracy: 0.6850 - loss: 0.8561 - val_accuracy: 0.4000 - val_loss: 0.9357\n",
      "Epoch 16/25\n",
      "\u001b[1m4/4\u001b[0m \u001b[32m━━━━━━━━━━━━━━━━━━━━\u001b[0m\u001b[37m\u001b[0m \u001b[1m0s\u001b[0m 38ms/step - accuracy: 0.7087 - loss: 0.8340 - val_accuracy: 0.6000 - val_loss: 0.9112\n",
      "Epoch 17/25\n",
      "\u001b[1m4/4\u001b[0m \u001b[32m━━━━━━━━━━━━━━━━━━━━\u001b[0m\u001b[37m\u001b[0m \u001b[1m0s\u001b[0m 39ms/step - accuracy: 0.7795 - loss: 0.8110 - val_accuracy: 0.6667 - val_loss: 0.8785\n",
      "Epoch 18/25\n",
      "\u001b[1m4/4\u001b[0m \u001b[32m━━━━━━━━━━━━━━━━━━━━\u001b[0m\u001b[37m\u001b[0m \u001b[1m0s\u001b[0m 31ms/step - accuracy: 0.8189 - loss: 0.7862 - val_accuracy: 0.6667 - val_loss: 0.8480\n",
      "Epoch 19/25\n",
      "\u001b[1m4/4\u001b[0m \u001b[32m━━━━━━━━━━━━━━━━━━━━\u001b[0m\u001b[37m\u001b[0m \u001b[1m0s\u001b[0m 30ms/step - accuracy: 0.8504 - loss: 0.7611 - val_accuracy: 0.8667 - val_loss: 0.8112\n",
      "Epoch 20/25\n",
      "\u001b[1m4/4\u001b[0m \u001b[32m━━━━━━━━━━━━━━━━━━━━\u001b[0m\u001b[37m\u001b[0m \u001b[1m0s\u001b[0m 36ms/step - accuracy: 0.8661 - loss: 0.7368 - val_accuracy: 0.9333 - val_loss: 0.7689\n",
      "Epoch 21/25\n",
      "\u001b[1m4/4\u001b[0m \u001b[32m━━━━━━━━━━━━━━━━━━━━\u001b[0m\u001b[37m\u001b[0m \u001b[1m0s\u001b[0m 29ms/step - accuracy: 0.8898 - loss: 0.7069 - val_accuracy: 0.9333 - val_loss: 0.7362\n",
      "Epoch 22/25\n",
      "\u001b[1m4/4\u001b[0m \u001b[32m━━━━━━━━━━━━━━━━━━━━\u001b[0m\u001b[37m\u001b[0m \u001b[1m0s\u001b[0m 44ms/step - accuracy: 0.9213 - loss: 0.6786 - val_accuracy: 0.9333 - val_loss: 0.7015\n",
      "Epoch 23/25\n",
      "\u001b[1m4/4\u001b[0m \u001b[32m━━━━━━━━━━━━━━━━━━━━\u001b[0m\u001b[37m\u001b[0m \u001b[1m0s\u001b[0m 27ms/step - accuracy: 0.9134 - loss: 0.6487 - val_accuracy: 0.9333 - val_loss: 0.6620\n",
      "Epoch 24/25\n",
      "\u001b[1m4/4\u001b[0m \u001b[32m━━━━━━━━━━━━━━━━━━━━\u001b[0m\u001b[37m\u001b[0m \u001b[1m0s\u001b[0m 28ms/step - accuracy: 0.9213 - loss: 0.6182 - val_accuracy: 1.0000 - val_loss: 0.6217\n",
      "Epoch 25/25\n",
      "\u001b[1m4/4\u001b[0m \u001b[32m━━━━━━━━━━━━━━━━━━━━\u001b[0m\u001b[37m\u001b[0m \u001b[1m0s\u001b[0m 39ms/step - accuracy: 0.9213 - loss: 0.5884 - val_accuracy: 1.0000 - val_loss: 0.5790\n"
     ]
    }
   ],
   "source": [
    "model_history = model.fit(X_train, y_train, epochs=25, validation_split=0.1)"
   ]
  },
  {
   "cell_type": "code",
   "execution_count": 68,
   "id": "9c9b1861",
   "metadata": {},
   "outputs": [
    {
     "name": "stdout",
     "output_type": "stream",
     "text": [
      "2/2 - 0s - 29ms/step - accuracy: 0.8889 - loss: 0.5601\n",
      "Acurácia no teste: 0.8889\n"
     ]
    }
   ],
   "source": [
    "# Avaliar no teste\n",
    "test_loss, test_acc = model.evaluate(X_test, y_test, verbose=2)\n",
    "print(f\"Acurácia no teste: {test_acc:.4f}\")"
   ]
  },
  {
   "cell_type": "code",
   "execution_count": 69,
   "id": "1861b2cc",
   "metadata": {},
   "outputs": [
    {
     "name": "stdout",
     "output_type": "stream",
     "text": [
      "\u001b[1m2/2\u001b[0m \u001b[32m━━━━━━━━━━━━━━━━━━━━\u001b[0m\u001b[37m\u001b[0m \u001b[1m0s\u001b[0m 64ms/step\n"
     ]
    },
    {
     "data": {
      "image/png": "[encoded data removed]",
      "text/plain": [
       "<Figure size 640x480 with 2 Axes>"
      ]
     },
     "metadata": {},
     "output_type": "display_data"
    }
   ],
   "source": [
    "from sklearn.metrics import confusion_matrix, ConfusionMatrixDisplay\n",
    "\n",
    "y_pred_probs = model.predict(X_test)   # gera probabilidades\n",
    "y_pred = np.argmax(y_pred_probs, axis=1)            # pega o dígito mais provável\n",
    "y_pred\n",
    "\n",
    "# Criar matriz de confusão\n",
    "cm = confusion_matrix(y_test, y_pred)\n",
    "cm_nomalize = confusion_matrix(y_test, y_pred, normalize=\"true\") * 100\n",
    "\n",
    "# Mostrar matriz\n",
    "disp = ConfusionMatrixDisplay(confusion_matrix=cm, display_labels=range(3))\n",
    "disp.plot(cmap=\"Blues\", values_format=\"d\")\n",
    "plt.title(\"Matriz de Confusão - WINE\")\n",
    "plt.show()\n"
   ]
  },
  {
   "cell_type": "code",
   "execution_count": 70,
   "id": "e75278d5",
   "metadata": {},
   "outputs": [],
   "source": [
    "from sklearn.ensemble import RandomForestClassifier\n",
    "\n",
    "rf_model = RandomForestClassifier()\n",
    "\n",
    "rf_train = rf_model.fit(X_train, y_train)"
   ]
  },
  {
   "cell_type": "code",
   "execution_count": 71,
   "id": "fd977f19",
   "metadata": {},
   "outputs": [
    {
     "data": {
      "text/plain": [
       "1.0"
      ]
     },
     "execution_count": 71,
     "metadata": {},
     "output_type": "execute_result"
    }
   ],
   "source": [
    "rf_train.score(X_test, y_test)"
   ]
  },
  {
   "cell_type": "markdown",
   "id": "3a011c41",
   "metadata": {},
   "source": [
    "- Ambos os modelos tiveram bom desempenho, mas o Random Forest atingiu acurácia perfeita (1.0) nos dados de teste, enquanto a Rede Neural obteve 0.9722.\n",
    "- Aparentemente, em conjuntos de dados menores e mais simples, o Random Forest possui desempenho maior que a rede neural.\n",
    "\n",
    "> Com o treino usando 30 épocas temos também um modelo ideal com acurácia = 1.0 \n",
    "\n",
    "---\n",
    "\n",
    "#### EXERCÍCIO 2 – REGRESSÃO\n",
    "\n",
    "Dataset: California Housing Dataset (Scikit-learn)\n",
    "\n",
    "1. Treinar uma rede neural em Keras para prever o valor médio das casas.\n",
    "\n",
    "- Configuração mínima: 3 camadas ocultas com 64, 32 e 16 neurônios, função de ativação ReLU.\n",
    "- Camada de saída com 1 neurônio, função de ativação Linear.\n",
    "- Função de perda: mse.\n",
    "- Otimizador: Adam.\n",
    "\n",
    "2. Comparar os resultados com um modelo do scikit-learn (LinearRegression ou\n",
    "   RandomForestRegressor).\n",
    "3. Registrar métricas de erro (RMSE ou MAE) e discutir qual modelo teve melhor desempenho\n"
   ]
  },
  {
   "cell_type": "code",
   "execution_count": 72,
   "id": "c2a2d803",
   "metadata": {},
   "outputs": [
    {
     "name": "stdout",
     "output_type": "stream",
     "text": [
      "(20640, 8) (20640,)\n",
      "['MedInc', 'HouseAge', 'AveRooms', 'AveBedrms', 'Population', 'AveOccup']\n"
     ]
    }
   ],
   "source": [
    "from sklearn.datasets import fetch_california_housing\n",
    "housing = fetch_california_housing()\n",
    "print(housing.data.shape, housing.target.shape)\n",
    "print(housing.feature_names[0:6])"
   ]
  },
  {
   "cell_type": "code",
   "execution_count": 113,
   "id": "89cf8665",
   "metadata": {},
   "outputs": [],
   "source": [
    "housing_feature = scaler.fit_transform(housing.data)\n",
    "housing_target = housing.target"
   ]
  },
  {
   "cell_type": "code",
   "execution_count": 106,
   "id": "b9d1bd55",
   "metadata": {},
   "outputs": [
    {
     "name": "stdout",
     "output_type": "stream",
     "text": [
      "(20640, 8)\n",
      "(20640,)\n"
     ]
    }
   ],
   "source": [
    "print(housing_feature.shape)\n",
    "print(housing_target.shape)"
   ]
  },
  {
   "cell_type": "code",
   "execution_count": 118,
   "id": "35264e9f",
   "metadata": {},
   "outputs": [],
   "source": [
    "x_housing_train, x_housing_test, y_housing_train, y_housing_test = train_test_split(\n",
    "    housing_feature,\n",
    "    housing_target,\n",
    "    test_size=0.2,\n",
    "    random_state=42,\n",
    ")"
   ]
  },
  {
   "cell_type": "code",
   "execution_count": 124,
   "id": "4e316931",
   "metadata": {},
   "outputs": [
    {
     "data": {
      "text/plain": [
       "array([0.19032151, 0.62745098, 0.02957193, 0.01995318, 0.06437961,\n",
       "       0.00241382, 0.01806589, 0.72908367])"
      ]
     },
     "execution_count": 124,
     "metadata": {},
     "output_type": "execute_result"
    }
   ],
   "source": [
    "x_housing_train[0]"
   ]
  },
  {
   "cell_type": "code",
   "execution_count": 125,
   "id": "2750cde7",
   "metadata": {},
   "outputs": [
    {
     "data": {
      "text/plain": [
       "np.float64(1.03)"
      ]
     },
     "execution_count": 125,
     "metadata": {},
     "output_type": "execute_result"
    }
   ],
   "source": [
    "y_housing_train[0]"
   ]
  },
  {
   "cell_type": "code",
   "execution_count": 132,
   "id": "e2210436",
   "metadata": {},
   "outputs": [],
   "source": [
    "housing_model = keras.Sequential(\n",
    "    [\n",
    "        Input(shape=(8,)),\n",
    "        layers.Dense(64, activation=\"relu\", kernel_regularizer=keras.regularizers.l2(0.001)),\n",
    "        layers.Dense(32, activation=\"relu\", kernel_regularizer=keras.regularizers.l2(0.001)),\n",
    "        layers.Dense(16, activation=\"relu\"),\n",
    "        layers.Dense(1),\n",
    "    ]\n",
    ")\n",
    "\n",
    "housing_model.compile(\n",
    "    optimizer=\"adam\", loss=\"mse\", metrics=[\"mae\"]\n",
    ")"
   ]
  },
  {
   "cell_type": "code",
   "execution_count": 134,
   "id": "b87e6e33",
   "metadata": {},
   "outputs": [
    {
     "name": "stdout",
     "output_type": "stream",
     "text": [
      "Epoch 1/50\n",
      "\u001b[1m465/465\u001b[0m \u001b[32m━━━━━━━━━━━━━━━━━━━━\u001b[0m\u001b[37m\u001b[0m \u001b[1m1s\u001b[0m 2ms/step - loss: 0.4916 - mae: 0.4843 - val_loss: 0.5576 - val_mae: 0.4824\n",
      "Epoch 2/50\n",
      "\u001b[1m465/465\u001b[0m \u001b[32m━━━━━━━━━━━━━━━━━━━━\u001b[0m\u001b[37m\u001b[0m \u001b[1m1s\u001b[0m 2ms/step - loss: 0.4791 - mae: 0.4754 - val_loss: 0.5138 - val_mae: 0.4742\n",
      "Epoch 3/50\n",
      "\u001b[1m465/465\u001b[0m \u001b[32m━━━━━━━━━━━━━━━━━━━━\u001b[0m\u001b[37m\u001b[0m \u001b[1m1s\u001b[0m 2ms/step - loss: 0.4734 - mae: 0.4719 - val_loss: 0.5011 - val_mae: 0.4833\n",
      "Epoch 4/50\n",
      "\u001b[1m465/465\u001b[0m \u001b[32m━━━━━━━━━━━━━━━━━━━━\u001b[0m\u001b[37m\u001b[0m \u001b[1m1s\u001b[0m 2ms/step - loss: 0.4679 - mae: 0.4676 - val_loss: 0.4973 - val_mae: 0.4630\n",
      "Epoch 5/50\n",
      "\u001b[1m465/465\u001b[0m \u001b[32m━━━━━━━━━━━━━━━━━━━━\u001b[0m\u001b[37m\u001b[0m \u001b[1m1s\u001b[0m 2ms/step - loss: 0.4647 - mae: 0.4664 - val_loss: 0.5211 - val_mae: 0.5297\n",
      "Epoch 6/50\n",
      "\u001b[1m465/465\u001b[0m \u001b[32m━━━━━━━━━━━━━━━━━━━━\u001b[0m\u001b[37m\u001b[0m \u001b[1m1s\u001b[0m 2ms/step - loss: 0.4679 - mae: 0.4692 - val_loss: 0.4873 - val_mae: 0.4727\n",
      "Epoch 7/50\n",
      "\u001b[1m465/465\u001b[0m \u001b[32m━━━━━━━━━━━━━━━━━━━━\u001b[0m\u001b[37m\u001b[0m \u001b[1m1s\u001b[0m 2ms/step - loss: 0.4584 - mae: 0.4625 - val_loss: 0.4852 - val_mae: 0.4719\n",
      "Epoch 8/50\n",
      "\u001b[1m465/465\u001b[0m \u001b[32m━━━━━━━━━━━━━━━━━━━━\u001b[0m\u001b[37m\u001b[0m \u001b[1m1s\u001b[0m 2ms/step - loss: 0.4528 - mae: 0.4597 - val_loss: 0.4878 - val_mae: 0.4541\n",
      "Epoch 9/50\n",
      "\u001b[1m465/465\u001b[0m \u001b[32m━━━━━━━━━━━━━━━━━━━━\u001b[0m\u001b[37m\u001b[0m \u001b[1m1s\u001b[0m 2ms/step - loss: 0.4552 - mae: 0.4605 - val_loss: 0.4729 - val_mae: 0.4691\n",
      "Epoch 10/50\n",
      "\u001b[1m465/465\u001b[0m \u001b[32m━━━━━━━━━━━━━━━━━━━━\u001b[0m\u001b[37m\u001b[0m \u001b[1m2s\u001b[0m 3ms/step - loss: 0.4506 - mae: 0.4586 - val_loss: 0.4716 - val_mae: 0.4696\n",
      "Epoch 11/50\n",
      "\u001b[1m465/465\u001b[0m \u001b[32m━━━━━━━━━━━━━━━━━━━━\u001b[0m\u001b[37m\u001b[0m \u001b[1m2s\u001b[0m 4ms/step - loss: 0.4496 - mae: 0.4576 - val_loss: 0.4716 - val_mae: 0.4733\n",
      "Epoch 12/50\n",
      "\u001b[1m465/465\u001b[0m \u001b[32m━━━━━━━━━━━━━━━━━━━━\u001b[0m\u001b[37m\u001b[0m \u001b[1m1s\u001b[0m 3ms/step - loss: 0.4455 - mae: 0.4533 - val_loss: 0.4704 - val_mae: 0.4728\n",
      "Epoch 13/50\n",
      "\u001b[1m465/465\u001b[0m \u001b[32m━━━━━━━━━━━━━━━━━━━━\u001b[0m\u001b[37m\u001b[0m \u001b[1m1s\u001b[0m 3ms/step - loss: 0.4481 - mae: 0.4560 - val_loss: 0.4795 - val_mae: 0.4583\n",
      "Epoch 14/50\n",
      "\u001b[1m465/465\u001b[0m \u001b[32m━━━━━━━━━━━━━━━━━━━━\u001b[0m\u001b[37m\u001b[0m \u001b[1m1s\u001b[0m 3ms/step - loss: 0.4391 - mae: 0.4507 - val_loss: 0.4984 - val_mae: 0.5197\n",
      "Epoch 15/50\n",
      "\u001b[1m465/465\u001b[0m \u001b[32m━━━━━━━━━━━━━━━━━━━━\u001b[0m\u001b[37m\u001b[0m \u001b[1m2s\u001b[0m 3ms/step - loss: 0.4392 - mae: 0.4498 - val_loss: 0.4623 - val_mae: 0.4450\n",
      "Epoch 16/50\n",
      "\u001b[1m465/465\u001b[0m \u001b[32m━━━━━━━━━━━━━━━━━━━━\u001b[0m\u001b[37m\u001b[0m \u001b[1m2s\u001b[0m 5ms/step - loss: 0.4393 - mae: 0.4510 - val_loss: 0.4601 - val_mae: 0.4608\n",
      "Epoch 17/50\n",
      "\u001b[1m465/465\u001b[0m \u001b[32m━━━━━━━━━━━━━━━━━━━━\u001b[0m\u001b[37m\u001b[0m \u001b[1m1s\u001b[0m 2ms/step - loss: 0.4349 - mae: 0.4485 - val_loss: 0.4696 - val_mae: 0.4540\n",
      "Epoch 18/50\n",
      "\u001b[1m465/465\u001b[0m \u001b[32m━━━━━━━━━━━━━━━━━━━━\u001b[0m\u001b[37m\u001b[0m \u001b[1m2s\u001b[0m 4ms/step - loss: 0.4301 - mae: 0.4464 - val_loss: 0.4573 - val_mae: 0.4758\n",
      "Epoch 19/50\n",
      "\u001b[1m465/465\u001b[0m \u001b[32m━━━━━━━━━━━━━━━━━━━━\u001b[0m\u001b[37m\u001b[0m \u001b[1m3s\u001b[0m 5ms/step - loss: 0.4346 - mae: 0.4487 - val_loss: 0.4560 - val_mae: 0.4453\n",
      "Epoch 20/50\n",
      "\u001b[1m465/465\u001b[0m \u001b[32m━━━━━━━━━━━━━━━━━━━━\u001b[0m\u001b[37m\u001b[0m \u001b[1m3s\u001b[0m 6ms/step - loss: 0.4304 - mae: 0.4461 - val_loss: 0.4457 - val_mae: 0.4435\n",
      "Epoch 21/50\n",
      "\u001b[1m465/465\u001b[0m \u001b[32m━━━━━━━━━━━━━━━━━━━━\u001b[0m\u001b[37m\u001b[0m \u001b[1m3s\u001b[0m 6ms/step - loss: 0.4305 - mae: 0.4470 - val_loss: 0.4805 - val_mae: 0.4416\n",
      "Epoch 22/50\n",
      "\u001b[1m465/465\u001b[0m \u001b[32m━━━━━━━━━━━━━━━━━━━━\u001b[0m\u001b[37m\u001b[0m \u001b[1m3s\u001b[0m 6ms/step - loss: 0.4313 - mae: 0.4461 - val_loss: 0.4520 - val_mae: 0.4680\n",
      "Epoch 23/50\n",
      "\u001b[1m465/465\u001b[0m \u001b[32m━━━━━━━━━━━━━━━━━━━━\u001b[0m\u001b[37m\u001b[0m \u001b[1m3s\u001b[0m 2ms/step - loss: 0.4249 - mae: 0.4436 - val_loss: 0.4397 - val_mae: 0.4496\n",
      "Epoch 24/50\n",
      "\u001b[1m465/465\u001b[0m \u001b[32m━━━━━━━━━━━━━━━━━━━━\u001b[0m\u001b[37m\u001b[0m \u001b[1m1s\u001b[0m 2ms/step - loss: 0.4234 - mae: 0.4426 - val_loss: 0.4541 - val_mae: 0.4347\n",
      "Epoch 25/50\n",
      "\u001b[1m465/465\u001b[0m \u001b[32m━━━━━━━━━━━━━━━━━━━━\u001b[0m\u001b[37m\u001b[0m \u001b[1m1s\u001b[0m 2ms/step - loss: 0.4259 - mae: 0.4437 - val_loss: 0.4787 - val_mae: 0.5015\n",
      "Epoch 26/50\n",
      "\u001b[1m465/465\u001b[0m \u001b[32m━━━━━━━━━━━━━━━━━━━━\u001b[0m\u001b[37m\u001b[0m \u001b[1m1s\u001b[0m 2ms/step - loss: 0.4206 - mae: 0.4385 - val_loss: 0.4435 - val_mae: 0.4369\n",
      "Epoch 27/50\n",
      "\u001b[1m465/465\u001b[0m \u001b[32m━━━━━━━━━━━━━━━━━━━━\u001b[0m\u001b[37m\u001b[0m \u001b[1m1s\u001b[0m 2ms/step - loss: 0.4209 - mae: 0.4412 - val_loss: 0.4373 - val_mae: 0.4465\n",
      "Epoch 28/50\n",
      "\u001b[1m465/465\u001b[0m \u001b[32m━━━━━━━━━━━━━━━━━━━━\u001b[0m\u001b[37m\u001b[0m \u001b[1m1s\u001b[0m 2ms/step - loss: 0.4189 - mae: 0.4394 - val_loss: 0.4485 - val_mae: 0.4372\n",
      "Epoch 29/50\n",
      "\u001b[1m465/465\u001b[0m \u001b[32m━━━━━━━━━━━━━━━━━━━━\u001b[0m\u001b[37m\u001b[0m \u001b[1m1s\u001b[0m 2ms/step - loss: 0.4191 - mae: 0.4394 - val_loss: 0.4543 - val_mae: 0.4330\n",
      "Epoch 30/50\n",
      "\u001b[1m465/465\u001b[0m \u001b[32m━━━━━━━━━━━━━━━━━━━━\u001b[0m\u001b[37m\u001b[0m \u001b[1m1s\u001b[0m 2ms/step - loss: 0.4205 - mae: 0.4406 - val_loss: 0.4485 - val_mae: 0.4537\n",
      "Epoch 31/50\n",
      "\u001b[1m465/465\u001b[0m \u001b[32m━━━━━━━━━━━━━━━━━━━━\u001b[0m\u001b[37m\u001b[0m \u001b[1m1s\u001b[0m 2ms/step - loss: 0.4163 - mae: 0.4383 - val_loss: 0.4399 - val_mae: 0.4392\n",
      "Epoch 32/50\n",
      "\u001b[1m465/465\u001b[0m \u001b[32m━━━━━━━━━━━━━━━━━━━━\u001b[0m\u001b[37m\u001b[0m \u001b[1m1s\u001b[0m 2ms/step - loss: 0.4216 - mae: 0.4404 - val_loss: 0.4370 - val_mae: 0.4574\n",
      "Epoch 33/50\n",
      "\u001b[1m465/465\u001b[0m \u001b[32m━━━━━━━━━━━━━━━━━━━━\u001b[0m\u001b[37m\u001b[0m \u001b[1m1s\u001b[0m 2ms/step - loss: 0.4167 - mae: 0.4384 - val_loss: 0.4399 - val_mae: 0.4376\n",
      "Epoch 34/50\n",
      "\u001b[1m465/465\u001b[0m \u001b[32m━━━━━━━━━━━━━━━━━━━━\u001b[0m\u001b[37m\u001b[0m \u001b[1m1s\u001b[0m 2ms/step - loss: 0.4203 - mae: 0.4398 - val_loss: 0.5355 - val_mae: 0.5555\n",
      "Epoch 35/50\n",
      "\u001b[1m465/465\u001b[0m \u001b[32m━━━━━━━━━━━━━━━━━━━━\u001b[0m\u001b[37m\u001b[0m \u001b[1m1s\u001b[0m 2ms/step - loss: 0.4159 - mae: 0.4371 - val_loss: 0.4279 - val_mae: 0.4326\n",
      "Epoch 36/50\n",
      "\u001b[1m465/465\u001b[0m \u001b[32m━━━━━━━━━━━━━━━━━━━━\u001b[0m\u001b[37m\u001b[0m \u001b[1m1s\u001b[0m 2ms/step - loss: 0.4148 - mae: 0.4378 - val_loss: 0.4304 - val_mae: 0.4383\n",
      "Epoch 37/50\n",
      "\u001b[1m465/465\u001b[0m \u001b[32m━━━━━━━━━━━━━━━━━━━━\u001b[0m\u001b[37m\u001b[0m \u001b[1m1s\u001b[0m 2ms/step - loss: 0.4100 - mae: 0.4333 - val_loss: 0.5059 - val_mae: 0.5395\n",
      "Epoch 38/50\n",
      "\u001b[1m465/465\u001b[0m \u001b[32m━━━━━━━━━━━━━━━━━━━━\u001b[0m\u001b[37m\u001b[0m \u001b[1m1s\u001b[0m 2ms/step - loss: 0.4131 - mae: 0.4372 - val_loss: 0.4369 - val_mae: 0.4383\n",
      "Epoch 39/50\n",
      "\u001b[1m465/465\u001b[0m \u001b[32m━━━━━━━━━━━━━━━━━━━━\u001b[0m\u001b[37m\u001b[0m \u001b[1m1s\u001b[0m 2ms/step - loss: 0.4120 - mae: 0.4334 - val_loss: 0.4231 - val_mae: 0.4332\n",
      "Epoch 40/50\n",
      "\u001b[1m465/465\u001b[0m \u001b[32m━━━━━━━━━━━━━━━━━━━━\u001b[0m\u001b[37m\u001b[0m \u001b[1m1s\u001b[0m 2ms/step - loss: 0.4124 - mae: 0.4345 - val_loss: 0.4388 - val_mae: 0.4358\n",
      "Epoch 41/50\n",
      "\u001b[1m465/465\u001b[0m \u001b[32m━━━━━━━━━━━━━━━━━━━━\u001b[0m\u001b[37m\u001b[0m \u001b[1m1s\u001b[0m 2ms/step - loss: 0.4107 - mae: 0.4350 - val_loss: 0.4246 - val_mae: 0.4403\n",
      "Epoch 42/50\n",
      "\u001b[1m465/465\u001b[0m \u001b[32m━━━━━━━━━━━━━━━━━━━━\u001b[0m\u001b[37m\u001b[0m \u001b[1m1s\u001b[0m 2ms/step - loss: 0.4113 - mae: 0.4342 - val_loss: 0.4289 - val_mae: 0.4369\n",
      "Epoch 43/50\n",
      "\u001b[1m465/465\u001b[0m \u001b[32m━━━━━━━━━━━━━━━━━━━━\u001b[0m\u001b[37m\u001b[0m \u001b[1m1s\u001b[0m 2ms/step - loss: 0.4044 - mae: 0.4303 - val_loss: 0.4270 - val_mae: 0.4289\n",
      "Epoch 44/50\n",
      "\u001b[1m465/465\u001b[0m \u001b[32m━━━━━━━━━━━━━━━━━━━━\u001b[0m\u001b[37m\u001b[0m \u001b[1m1s\u001b[0m 2ms/step - loss: 0.4069 - mae: 0.4315 - val_loss: 0.4169 - val_mae: 0.4207\n",
      "Epoch 45/50\n",
      "\u001b[1m465/465\u001b[0m \u001b[32m━━━━━━━━━━━━━━━━━━━━\u001b[0m\u001b[37m\u001b[0m \u001b[1m1s\u001b[0m 2ms/step - loss: 0.4022 - mae: 0.4271 - val_loss: 0.4201 - val_mae: 0.4242\n",
      "Epoch 46/50\n",
      "\u001b[1m465/465\u001b[0m \u001b[32m━━━━━━━━━━━━━━━━━━━━\u001b[0m\u001b[37m\u001b[0m \u001b[1m1s\u001b[0m 2ms/step - loss: 0.4032 - mae: 0.4287 - val_loss: 0.4196 - val_mae: 0.4397\n",
      "Epoch 47/50\n",
      "\u001b[1m465/465\u001b[0m \u001b[32m━━━━━━━━━━━━━━━━━━━━\u001b[0m\u001b[37m\u001b[0m \u001b[1m1s\u001b[0m 2ms/step - loss: 0.4020 - mae: 0.4290 - val_loss: 0.4190 - val_mae: 0.4231\n",
      "Epoch 48/50\n",
      "\u001b[1m465/465\u001b[0m \u001b[32m━━━━━━━━━━━━━━━━━━━━\u001b[0m\u001b[37m\u001b[0m \u001b[1m1s\u001b[0m 2ms/step - loss: 0.3987 - mae: 0.4260 - val_loss: 0.4258 - val_mae: 0.4309\n",
      "Epoch 49/50\n",
      "\u001b[1m465/465\u001b[0m \u001b[32m━━━━━━━━━━━━━━━━━━━━\u001b[0m\u001b[37m\u001b[0m \u001b[1m1s\u001b[0m 2ms/step - loss: 0.3968 - mae: 0.4258 - val_loss: 0.4073 - val_mae: 0.4235\n",
      "Epoch 50/50\n",
      "\u001b[1m465/465\u001b[0m \u001b[32m━━━━━━━━━━━━━━━━━━━━\u001b[0m\u001b[37m\u001b[0m \u001b[1m1s\u001b[0m 2ms/step - loss: 0.3974 - mae: 0.4258 - val_loss: 0.4191 - val_mae: 0.4548\n"
     ]
    }
   ],
   "source": [
    "housing_history = housing_model.fit(x_housing_train, y_housing_train, epochs=50, validation_split=0.1)"
   ]
  },
  {
   "cell_type": "code",
   "execution_count": 135,
   "id": "f8523fd7",
   "metadata": {},
   "outputs": [
    {
     "name": "stdout",
     "output_type": "stream",
     "text": [
      "\u001b[1m129/129\u001b[0m \u001b[32m━━━━━━━━━━━━━━━━━━━━\u001b[0m\u001b[37m\u001b[0m \u001b[1m0s\u001b[0m 1ms/step\n",
      "Rede Neural - RMSE: 0.6322, MAE: 0.4512\n"
     ]
    }
   ],
   "source": [
    "from sklearn.metrics import mean_squared_error, mean_absolute_error\n",
    "import numpy as np\n",
    "\n",
    "# Previsões\n",
    "y_pred = housing_model.predict(x_housing_test)\n",
    "\n",
    "# Erros\n",
    "mse = mean_squared_error(y_housing_test, y_pred)\n",
    "rmse = np.sqrt(mse)\n",
    "mae = mean_absolute_error(y_housing_test, y_pred)\n",
    "\n",
    "print(f\"Rede Neural - RMSE: {rmse:.4f}, MAE: {mae:.4f}\")\n"
   ]
  },
  {
   "cell_type": "code",
   "execution_count": 140,
   "id": "7bd3ce98",
   "metadata": {},
   "outputs": [],
   "source": [
    "from sklearn.linear_model import LinearRegression\n",
    "\n",
    "ln_model = LinearRegression()\n",
    "\n",
    "ln_train = ln_model.fit(x_housing_train, y_housing_train)"
   ]
  },
  {
   "cell_type": "code",
   "execution_count": 141,
   "id": "e17e6876",
   "metadata": {},
   "outputs": [
    {
     "data": {
      "text/plain": [
       "0.5757877060324512"
      ]
     },
     "execution_count": 141,
     "metadata": {},
     "output_type": "execute_result"
    }
   ],
   "source": [
    "ln_train.score(x_housing_test, y_housing_test)"
   ]
  },
  {
   "cell_type": "code",
   "execution_count": 143,
   "id": "6ef5b432",
   "metadata": {},
   "outputs": [
    {
     "name": "stdout",
     "output_type": "stream",
     "text": [
      "Regressão linear - RMSE: 0.7456, MAE: 0.5332\n"
     ]
    }
   ],
   "source": [
    "# Previsões\n",
    "y_pred = ln_train.predict(x_housing_test)\n",
    "\n",
    "# Erros\n",
    "mse = mean_squared_error(y_housing_test, y_pred)\n",
    "rmse = np.sqrt(mse)\n",
    "mae = mean_absolute_error(y_housing_test, y_pred)\n",
    "\n",
    "print(f\"Regressão linear - RMSE: {rmse:.4f}, MAE: {mae:.4f}\")\n"
   ]
  },
  {
   "cell_type": "markdown",
   "id": "10f67322",
   "metadata": {},
   "source": [
    "Ao se comparar uma Rede Neural com regressão linear utilizando o California Housing Dataset, percebemos que, a rede tem apresentado um desempenho ligeiramente melhor (RMSE: 0.63, MAE: 0.45) em relação à regressão linear (RMSE: 0.74, MAE: 0.53), nenhum dos dois modelos teve uma performance realmente satisfatória.\n",
    "\n",
    "Embora, as métricas sejam parecidas, RMSE e MSE, temos que para um bom modelos elas tem de se `aproximar de 0`. \n",
    "Outra métrica que temos é de R^2 = 0,5758 para a regressão linear, indicando que aquele modelo explica apenas metade da variação na variável\n",
    "\n"
   ]
  }
 ],
 "metadata": {
  "kernelspec": {
   "display_name": "venv",
   "language": "python",
   "name": "python3"
  },
  "language_info": {
   "codemirror_mode": {
    "name": "ipython",
    "version": 3
   },
   "file_extension": ".py",
   "mimetype": "text/x-python",
   "name": "python",
   "nbconvert_exporter": "python",
   "pygments_lexer": "ipython3",
   "version": "3.13.1"
  }
 },
 "nbformat": 4,
 "nbformat_minor": 5
}
